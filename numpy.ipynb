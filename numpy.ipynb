{
 "cells": [
  {
   "cell_type": "code",
   "execution_count": 1,
   "metadata": {},
   "outputs": [
    {
     "output_type": "stream",
     "name": "stdout",
     "text": [
      "[ 1  2  3  4  5  6  7  8  9 10 11 12 13 14 15 16 17 18 19 20]\n"
     ]
    },
    {
     "output_type": "execute_result",
     "data": {
      "text/plain": [
       "numpy.ndarray"
      ]
     },
     "metadata": {},
     "execution_count": 1
    }
   ],
   "source": [
    "import numpy as np\n",
    "\n",
    "notre_tableau = np.array([1,2,3,4,5,6,7,8,9,10,11,12,13,14,15,16,17,18,19,20])\n",
    "print(notre_tableau)\n",
    "type(notre_tableau)"
   ]
  },
  {
   "cell_type": "code",
   "execution_count": 2,
   "metadata": {},
   "outputs": [
    {
     "output_type": "stream",
     "name": "stdout",
     "text": [
      "[[1 2 3]\n [4 5 6]\n [7 8 9]]\n"
     ]
    }
   ],
   "source": [
    "mon_array_bidimensionnel=np.array([[1,2,3],[4,5,6],[7,8,9]])\n",
    "print(mon_array_bidimensionnel)"
   ]
  },
  {
   "cell_type": "code",
   "execution_count": 3,
   "metadata": {},
   "outputs": [
    {
     "output_type": "stream",
     "name": "stdout",
     "text": [
      "3\n3\n[1 4 7]\n[1 2 3]\n"
     ]
    }
   ],
   "source": [
    "## pour selectionner la valeur de la troisième colonne première ligne\n",
    "print(mon_array_bidimensionnel[0,2])\n",
    "print(mon_array_bidimensionnel[0,2])\n",
    "## pour selectionner la première ligne\n",
    "print(mon_array_bidimensionnel[:,0])\n",
    "## pour selectionner la première colonne\n",
    "print(mon_array_bidimensionnel[0,:])"
   ]
  },
  {
   "cell_type": "code",
   "execution_count": 4,
   "metadata": {},
   "outputs": [
    {
     "output_type": "error",
     "ename": "ValueError",
     "evalue": "invalid literal for int() with base 10: 'texte'",
     "traceback": [
      "\u001b[0;31m---------------------------------------------------------------------------\u001b[0m",
      "\u001b[0;31mValueError\u001b[0m                                Traceback (most recent call last)",
      "\u001b[0;32m<ipython-input-4-781e56733282>\u001b[0m in \u001b[0;36m<module>\u001b[0;34m\u001b[0m\n\u001b[0;32m----> 1\u001b[0;31m \u001b[0mmon_array_bidimensionnel\u001b[0m\u001b[0;34m[\u001b[0m\u001b[0;36m0\u001b[0m\u001b[0;34m,\u001b[0m\u001b[0;36m0\u001b[0m\u001b[0;34m]\u001b[0m\u001b[0;34m=\u001b[0m\u001b[0;34m\"texte\"\u001b[0m\u001b[0;34m\u001b[0m\u001b[0;34m\u001b[0m\u001b[0m\n\u001b[0m",
      "\u001b[0;31mValueError\u001b[0m: invalid literal for int() with base 10: 'texte'"
     ]
    }
   ],
   "source": [
    "mon_array_bidimensionnel[0,0]=\"texte\""
   ]
  },
  {
   "cell_type": "code",
   "execution_count": 8,
   "metadata": {},
   "outputs": [
    {
     "data": {
      "text/plain": [
       "dtype('int64')"
      ]
     },
     "execution_count": 8,
     "metadata": {},
     "output_type": "execute_result"
    }
   ],
   "source": [
    "mon_array_bidimensionnel.dtype"
   ]
  },
  {
   "cell_type": "code",
   "execution_count": 9,
   "metadata": {},
   "outputs": [
    {
     "name": "stdout",
     "output_type": "stream",
     "text": [
      "[[1.5 2.  3. ]\n",
      " [4.  5.2 6. ]\n",
      " [7.  8.  9.1]]\n"
     ]
    },
    {
     "data": {
      "text/plain": [
       "dtype('float64')"
      ]
     },
     "execution_count": 9,
     "metadata": {},
     "output_type": "execute_result"
    }
   ],
   "source": [
    "mon_array_bidimensionnel = np.array([[1.5,2,3],[4,5.2,6],[7,8,9.1]], dtype = float)\n",
    "print(mon_array_bidimensionnel)\n",
    "mon_array_bidimensionnel.dtype"
   ]
  },
  {
   "cell_type": "code",
   "execution_count": 13,
   "metadata": {},
   "outputs": [
    {
     "name": "stdout",
     "output_type": "stream",
     "text": [
      "[[0. 0. 0. 0. 0. 0.]\n",
      " [0. 0. 0. 0. 0. 0.]\n",
      " [0. 0. 0. 0. 0. 0.]\n",
      " [0. 0. 0. 0. 0. 0.]]\n"
     ]
    }
   ],
   "source": [
    "import numpy as np\n",
    "\n",
    "mon_array_zeros = np.zeros((4,6))\n",
    "print(mon_array_zeros)"
   ]
  },
  {
   "cell_type": "code",
   "execution_count": 14,
   "metadata": {},
   "outputs": [
    {
     "name": "stdout",
     "output_type": "stream",
     "text": [
      "[[1. 1. 1. 1. 1. 1.]\n",
      " [1. 1. 1. 1. 1. 1.]\n",
      " [1. 1. 1. 1. 1. 1.]\n",
      " [1. 1. 1. 1. 1. 1.]]\n"
     ]
    }
   ],
   "source": [
    "import numpy as np\n",
    "\n",
    "mon_array_ones = np.ones((4,6))\n",
    "print(mon_array_ones)"
   ]
  },
  {
   "cell_type": "code",
   "execution_count": 15,
   "metadata": {},
   "outputs": [
    {
     "name": "stdout",
     "output_type": "stream",
     "text": [
      "[[0.07312794 0.80776148]\n",
      " [0.98498516 0.07158532]\n",
      " [0.83673237 0.1669508 ]\n",
      " [0.34711806 0.42431728]]\n"
     ]
    }
   ],
   "source": [
    "import numpy as np\n",
    "\n",
    "mon_array_random=np.random.random((4,2))\n",
    "print(mon_array_random)"
   ]
  },
  {
   "cell_type": "code",
   "execution_count": 5,
   "metadata": {},
   "outputs": [
    {
     "output_type": "stream",
     "name": "stdout",
     "text": [
      "iris_2.csv  iris.csv  numpy_pt1.ipynb\n"
     ]
    }
   ],
   "source": [
    "ls"
   ]
  },
  {
   "cell_type": "code",
   "execution_count": 149,
   "metadata": {},
   "outputs": [
    {
     "output_type": "stream",
     "name": "stdout",
     "text": [
      "[[5.1 3.5 1.4 0.2 1. ]\n [4.9 3.  1.4 0.2 1. ]\n [4.7 3.2 1.3 0.2 1. ]\n [4.6 3.1 1.5 0.2 1. ]\n [5.  3.6 1.4 0.2 1. ]\n [5.4 3.9 1.7 0.4 1. ]\n [4.6 3.4 1.4 0.3 1. ]\n [5.  3.4 1.5 0.2 1. ]\n [4.4 2.9 1.4 0.2 1. ]\n [4.9 3.1 1.5 0.1 1. ]\n [5.4 3.7 1.5 0.2 1. ]\n [4.8 3.4 1.6 0.2 1. ]\n [4.8 3.  1.4 0.1 1. ]\n [4.3 3.  1.1 0.1 1. ]\n [5.8 4.  1.2 0.2 1. ]\n [5.7 4.4 1.5 0.4 1. ]\n [5.4 3.9 1.3 0.4 1. ]\n [5.1 3.5 1.4 0.3 1. ]\n [5.7 3.8 1.7 0.3 1. ]\n [5.1 3.8 1.5 0.3 1. ]\n [5.4 3.4 1.7 0.2 1. ]\n [5.1 3.7 1.5 0.4 1. ]\n [4.6 3.6 1.  0.2 1. ]\n [5.1 3.3 1.7 0.5 1. ]\n [4.8 3.4 1.9 0.2 1. ]\n [5.  3.  1.6 0.2 1. ]\n [5.  3.4 1.6 0.4 1. ]\n [5.2 3.5 1.5 0.2 1. ]\n [5.2 3.4 1.4 0.2 1. ]\n [4.7 3.2 1.6 0.2 1. ]\n [4.8 3.1 1.6 0.2 1. ]\n [5.4 3.4 1.5 0.4 1. ]\n [5.2 4.1 1.5 0.1 1. ]\n [5.5 4.2 1.4 0.2 1. ]\n [4.9 3.1 1.5 0.2 1. ]\n [5.  3.2 1.2 0.2 1. ]\n [5.5 3.5 1.3 0.2 1. ]\n [4.9 3.6 1.4 0.1 1. ]\n [4.4 3.  1.3 0.2 1. ]\n [5.1 3.4 1.5 0.2 1. ]\n [5.  3.5 1.3 0.3 1. ]\n [4.5 2.3 1.3 0.3 1. ]\n [4.4 3.2 1.3 0.2 1. ]\n [5.  3.5 1.6 0.6 1. ]\n [5.1 3.8 1.9 0.4 1. ]\n [4.8 3.  1.4 0.3 1. ]\n [5.1 3.8 1.6 0.2 1. ]\n [4.6 3.2 1.4 0.2 1. ]\n [5.3 3.7 1.5 0.2 1. ]\n [5.  3.3 1.4 0.2 1. ]\n [7.  3.2 4.7 1.4 2. ]\n [6.4 3.2 4.5 1.5 2. ]\n [6.9 3.1 4.9 1.5 2. ]\n [5.5 2.3 4.  1.3 2. ]\n [6.5 2.8 4.6 1.5 2. ]\n [5.7 2.8 4.5 1.3 2. ]\n [6.3 3.3 4.7 1.6 2. ]\n [4.9 2.4 3.3 1.  2. ]\n [6.6 2.9 4.6 1.3 2. ]\n [5.2 2.7 3.9 1.4 2. ]\n [5.  2.  3.5 1.  2. ]\n [5.9 3.  4.2 1.5 2. ]\n [6.  2.2 4.  1.  2. ]\n [6.1 2.9 4.7 1.4 2. ]\n [5.6 2.9 3.6 1.3 2. ]\n [6.7 3.1 4.4 1.4 2. ]\n [5.6 3.  4.5 1.5 2. ]\n [5.8 2.7 4.1 1.  2. ]\n [6.2 2.2 4.5 1.5 2. ]\n [5.6 2.5 3.9 1.1 2. ]\n [5.9 3.2 4.8 1.8 2. ]\n [6.1 2.8 4.  1.3 2. ]\n [6.3 2.5 4.9 1.5 2. ]\n [6.1 2.8 4.7 1.2 2. ]\n [6.4 2.9 4.3 1.3 2. ]\n [6.6 3.  4.4 1.4 2. ]\n [6.8 2.8 4.8 1.4 2. ]\n [6.7 3.  5.  1.7 2. ]\n [6.  2.9 4.5 1.5 2. ]\n [5.7 2.6 3.5 1.  2. ]\n [5.5 2.4 3.8 1.1 2. ]\n [5.5 2.4 3.7 1.  2. ]\n [5.8 2.7 3.9 1.2 2. ]\n [6.  2.7 5.1 1.6 2. ]\n [5.4 3.  4.5 1.5 2. ]\n [6.  3.4 4.5 1.6 2. ]\n [6.7 3.1 4.7 1.5 2. ]\n [6.3 2.3 4.4 1.3 2. ]\n [5.6 3.  4.1 1.3 2. ]\n [5.5 2.5 4.  1.3 2. ]\n [5.5 2.6 4.4 1.2 2. ]\n [6.1 3.  4.6 1.4 2. ]\n [5.8 2.6 4.  1.2 2. ]\n [5.  2.3 3.3 1.  2. ]\n [5.6 2.7 4.2 1.3 2. ]\n [5.7 3.  4.2 1.2 2. ]\n [5.7 2.9 4.2 1.3 2. ]\n [6.2 2.9 4.3 1.3 2. ]\n [5.1 2.5 3.  1.1 2. ]\n [5.7 2.8 4.1 1.3 2. ]\n [6.3 3.3 6.  2.5 3. ]\n [5.8 2.7 5.1 1.9 3. ]\n [7.1 3.  5.9 2.1 3. ]\n [6.3 2.9 5.6 1.8 3. ]\n [6.5 3.  5.8 2.2 3. ]\n [7.6 3.  6.6 2.1 3. ]\n [4.9 2.5 4.5 1.7 3. ]\n [7.3 2.9 6.3 1.8 3. ]\n [6.7 2.5 5.8 1.8 3. ]\n [7.2 3.6 6.1 2.5 3. ]\n [6.5 3.2 5.1 2.  3. ]\n [6.4 2.7 5.3 1.9 3. ]\n [6.8 3.  5.5 2.1 3. ]\n [5.7 2.5 5.  2.  3. ]\n [5.8 2.8 5.1 2.4 3. ]\n [6.4 3.2 5.3 2.3 3. ]\n [6.5 3.  5.5 1.8 3. ]\n [7.7 3.8 6.7 2.2 3. ]\n [7.7 2.6 6.9 2.3 3. ]\n [6.  2.2 5.  1.5 3. ]\n [6.9 3.2 5.7 2.3 3. ]\n [5.6 2.8 4.9 2.  3. ]\n [7.7 2.8 6.7 2.  3. ]\n [6.3 2.7 4.9 1.8 3. ]\n [6.7 3.3 5.7 2.1 3. ]\n [7.2 3.2 6.  1.8 3. ]\n [6.2 2.8 4.8 1.8 3. ]\n [6.1 3.  4.9 1.8 3. ]\n [6.4 2.8 5.6 2.1 3. ]\n [7.2 3.  5.8 1.6 3. ]\n [7.4 2.8 6.1 1.9 3. ]\n [7.9 3.8 6.4 2.  3. ]\n [6.4 2.8 5.6 2.2 3. ]\n [6.3 2.8 5.1 1.5 3. ]\n [6.1 2.6 5.6 1.4 3. ]\n [7.7 3.  6.1 2.3 3. ]\n [6.3 3.4 5.6 2.4 3. ]\n [6.4 3.1 5.5 1.8 3. ]\n [6.  3.  4.8 1.8 3. ]\n [6.9 3.1 5.4 2.1 3. ]\n [6.7 3.1 5.6 2.4 3. ]\n [6.9 3.1 5.1 2.3 3. ]\n [5.8 2.7 5.1 1.9 3. ]\n [6.8 3.2 5.9 2.3 3. ]\n [6.7 3.3 5.7 2.5 3. ]\n [6.7 3.  5.2 2.3 3. ]\n [6.3 2.5 5.  1.9 3. ]\n [6.5 3.  5.2 2.  3. ]\n [6.2 3.4 5.4 2.3 3. ]\n [5.9 3.  5.1 1.8 3. ]]\nfloat64\n"
     ]
    },
    {
     "output_type": "execute_result",
     "data": {
      "text/plain": [
       "numpy.ndarray"
      ]
     },
     "metadata": {},
     "execution_count": 149
    }
   ],
   "source": [
    "import numpy as np\n",
    "iris = np.genfromtxt(\"iris.csv\", delimiter = \";\", skip_header=True, encoding='latin-1')\n",
    "print(iris)\n",
    "print(iris.dtype)\n",
    "type(iris)"
   ]
  },
  {
   "cell_type": "code",
   "execution_count": 7,
   "metadata": {},
   "outputs": [],
   "source": [
    "import numpy as np\n",
    "np.savetxt(\"iris_2.csv\",iris, delimiter=\";\")"
   ]
  },
  {
   "cell_type": "code",
   "execution_count": 8,
   "metadata": {},
   "outputs": [
    {
     "output_type": "stream",
     "name": "stdout",
     "text": [
      "3.2\n5.1\n3.5\n1.4\n"
     ]
    }
   ],
   "source": [
    "print(iris[2,1])\n",
    "print(iris[0,0])\n",
    "print(iris[0,1])\n",
    "print(iris[0,2])"
   ]
  },
  {
   "cell_type": "code",
   "execution_count": 9,
   "metadata": {},
   "outputs": [
    {
     "output_type": "stream",
     "name": "stdout",
     "text": [
      "4.0\n"
     ]
    }
   ],
   "source": [
    "iris[2,1]=4\n",
    "print(iris[2,1])"
   ]
  },
  {
   "cell_type": "code",
   "execution_count": 10,
   "metadata": {},
   "outputs": [
    {
     "output_type": "stream",
     "name": "stdout",
     "text": [
      "3.2\n"
     ]
    }
   ],
   "source": [
    "iris[2,1]=3.2\n",
    "print(iris[2,1])"
   ]
  },
  {
   "cell_type": "code",
   "execution_count": 11,
   "metadata": {},
   "outputs": [
    {
     "output_type": "execute_result",
     "data": {
      "text/plain": [
       "array([5.1, 3.5, 4.9, 3. , 4.7, 3.2, 4.6, 3.1, 5. , 3.6, 5.4, 3.9, 4.6,\n",
       "       3.4, 5. , 3.4, 4.4, 2.9, 4.9, 3.1, 5.4, 3.7, 4.8, 3.4, 4.8, 3. ,\n",
       "       4.3, 3. , 5.8, 4. , 5.7, 4.4, 5.4, 3.9, 5.1, 3.5, 5.7, 3.8, 5.1,\n",
       "       3.8, 5.4, 3.4, 5.1, 3.7, 4.6, 3.6, 5.1, 3.3, 4.8, 3.4, 5. , 3. ,\n",
       "       5. , 3.4, 5.2, 3.5, 5.2, 3.4, 4.7, 3.2, 4.8, 3.1, 5.4, 3.4, 5.2,\n",
       "       4.1, 5.5, 4.2, 4.9, 3.1, 5. , 3.2, 5.5, 3.5, 4.9, 3.6, 4.4, 3. ,\n",
       "       5.1, 3.4, 5. , 3.5, 4.5, 2.3, 4.4, 3.2, 5. , 3.5, 5.1, 3.8, 4.8,\n",
       "       3. , 5.1, 3.8, 4.6, 3.2, 5.3, 3.7, 5. , 3.3, 7. , 3.2, 4.7, 6.4,\n",
       "       3.2, 4.5, 6.9, 3.1, 4.9, 5.5, 2.3, 4. , 6.5, 2.8, 4.6, 5.7, 2.8,\n",
       "       4.5, 6.3, 3.3, 4.7, 4.9, 2.4, 3.3, 6.6, 2.9, 4.6, 5.2, 2.7, 3.9,\n",
       "       5. , 3.5, 5.9, 3. , 4.2, 6. , 2.2, 4. , 6.1, 2.9, 4.7, 5.6, 2.9,\n",
       "       3.6, 6.7, 3.1, 4.4, 5.6, 3. , 4.5, 5.8, 2.7, 4.1, 6.2, 2.2, 4.5,\n",
       "       5.6, 2.5, 3.9, 5.9, 3.2, 4.8, 6.1, 2.8, 4. , 6.3, 2.5, 4.9, 6.1,\n",
       "       2.8, 4.7, 6.4, 2.9, 4.3, 6.6, 3. , 4.4, 6.8, 2.8, 4.8, 6.7, 3. ,\n",
       "       5. , 6. , 2.9, 4.5, 5.7, 2.6, 3.5, 5.5, 2.4, 3.8, 5.5, 2.4, 3.7,\n",
       "       5.8, 2.7, 3.9, 6. , 2.7, 5.1, 5.4, 3. , 4.5, 6. , 3.4, 4.5, 6.7,\n",
       "       3.1, 4.7, 6.3, 2.3, 4.4, 5.6, 3. , 4.1, 5.5, 2.5, 4. , 5.5, 2.6,\n",
       "       4.4, 6.1, 3. , 4.6, 5.8, 2.6, 4. , 5. , 2.3, 3.3, 5.6, 2.7, 4.2,\n",
       "       5.7, 3. , 4.2, 5.7, 2.9, 4.2, 6.2, 2.9, 4.3, 5.1, 2.5, 3. , 5.7,\n",
       "       2.8, 4.1, 6.3, 3.3, 6. , 2.5, 3. , 5.8, 2.7, 5.1, 3. , 7.1, 3. ,\n",
       "       5.9, 2.1, 3. , 6.3, 2.9, 5.6, 3. , 6.5, 3. , 5.8, 2.2, 3. , 7.6,\n",
       "       3. , 6.6, 2.1, 3. , 4.9, 2.5, 4.5, 3. , 7.3, 2.9, 6.3, 3. , 6.7,\n",
       "       2.5, 5.8, 3. , 7.2, 3.6, 6.1, 2.5, 3. , 6.5, 3.2, 5.1, 3. , 6.4,\n",
       "       2.7, 5.3, 3. , 6.8, 3. , 5.5, 2.1, 3. , 5.7, 2.5, 5. , 3. , 5.8,\n",
       "       2.8, 5.1, 2.4, 3. , 6.4, 3.2, 5.3, 2.3, 3. , 6.5, 3. , 5.5, 3. ,\n",
       "       7.7, 3.8, 6.7, 2.2, 3. , 7.7, 2.6, 6.9, 2.3, 3. , 6. , 2.2, 5. ,\n",
       "       3. , 6.9, 3.2, 5.7, 2.3, 3. , 5.6, 2.8, 4.9, 3. , 7.7, 2.8, 6.7,\n",
       "       3. , 6.3, 2.7, 4.9, 3. , 6.7, 3.3, 5.7, 2.1, 3. , 7.2, 3.2, 6. ,\n",
       "       3. , 6.2, 2.8, 4.8, 3. , 6.1, 3. , 4.9, 3. , 6.4, 2.8, 5.6, 2.1,\n",
       "       3. , 7.2, 3. , 5.8, 3. , 7.4, 2.8, 6.1, 3. , 7.9, 3.8, 6.4, 3. ,\n",
       "       6.4, 2.8, 5.6, 2.2, 3. , 6.3, 2.8, 5.1, 3. , 6.1, 2.6, 5.6, 3. ,\n",
       "       7.7, 3. , 6.1, 2.3, 3. , 6.3, 3.4, 5.6, 2.4, 3. , 6.4, 3.1, 5.5,\n",
       "       3. , 6. , 3. , 4.8, 3. , 6.9, 3.1, 5.4, 2.1, 3. , 6.7, 3.1, 5.6,\n",
       "       2.4, 3. , 6.9, 3.1, 5.1, 2.3, 3. , 5.8, 2.7, 5.1, 3. , 6.8, 3.2,\n",
       "       5.9, 2.3, 3. , 6.7, 3.3, 5.7, 2.5, 3. , 6.7, 3. , 5.2, 2.3, 3. ,\n",
       "       6.3, 2.5, 5. , 3. , 6.5, 3. , 5.2, 3. , 6.2, 3.4, 5.4, 2.3, 3. ,\n",
       "       5.9, 3. , 5.1, 3. ])"
      ]
     },
     "metadata": {},
     "execution_count": 11
    }
   ],
   "source": [
    "iris[iris>2]"
   ]
  },
  {
   "cell_type": "code",
   "execution_count": 12,
   "metadata": {},
   "outputs": [
    {
     "output_type": "execute_result",
     "data": {
      "text/plain": [
       "(472,)"
      ]
     },
     "metadata": {},
     "execution_count": 12
    }
   ],
   "source": [
    "iris[iris>2].shape"
   ]
  },
  {
   "cell_type": "code",
   "execution_count": 16,
   "metadata": {},
   "outputs": [
    {
     "output_type": "execute_result",
     "data": {
      "text/plain": [
       "472"
      ]
     },
     "metadata": {},
     "execution_count": 16
    }
   ],
   "source": [
    "iris[iris>2].shape[0]"
   ]
  },
  {
   "cell_type": "code",
   "execution_count": 17,
   "metadata": {},
   "outputs": [
    {
     "output_type": "execute_result",
     "data": {
      "text/plain": [
       "array([[ True,  True, False, False, False],\n",
       "       [ True,  True, False, False, False],\n",
       "       [ True,  True, False, False, False],\n",
       "       [ True,  True, False, False, False],\n",
       "       [ True,  True, False, False, False],\n",
       "       [ True,  True, False, False, False],\n",
       "       [ True,  True, False, False, False],\n",
       "       [ True,  True, False, False, False],\n",
       "       [ True,  True, False, False, False],\n",
       "       [ True,  True, False, False, False],\n",
       "       [ True,  True, False, False, False],\n",
       "       [ True,  True, False, False, False],\n",
       "       [ True,  True, False, False, False],\n",
       "       [ True,  True, False, False, False],\n",
       "       [ True,  True, False, False, False],\n",
       "       [ True,  True, False, False, False],\n",
       "       [ True,  True, False, False, False],\n",
       "       [ True,  True, False, False, False],\n",
       "       [ True,  True, False, False, False],\n",
       "       [ True,  True, False, False, False],\n",
       "       [ True,  True, False, False, False],\n",
       "       [ True,  True, False, False, False],\n",
       "       [ True,  True, False, False, False],\n",
       "       [ True,  True, False, False, False],\n",
       "       [ True,  True, False, False, False],\n",
       "       [ True,  True, False, False, False],\n",
       "       [ True,  True, False, False, False],\n",
       "       [ True,  True, False, False, False],\n",
       "       [ True,  True, False, False, False],\n",
       "       [ True,  True, False, False, False],\n",
       "       [ True,  True, False, False, False],\n",
       "       [ True,  True, False, False, False],\n",
       "       [ True,  True, False, False, False],\n",
       "       [ True,  True, False, False, False],\n",
       "       [ True,  True, False, False, False],\n",
       "       [ True,  True, False, False, False],\n",
       "       [ True,  True, False, False, False],\n",
       "       [ True,  True, False, False, False],\n",
       "       [ True,  True, False, False, False],\n",
       "       [ True,  True, False, False, False],\n",
       "       [ True,  True, False, False, False],\n",
       "       [ True,  True, False, False, False],\n",
       "       [ True,  True, False, False, False],\n",
       "       [ True,  True, False, False, False],\n",
       "       [ True,  True, False, False, False],\n",
       "       [ True,  True, False, False, False],\n",
       "       [ True,  True, False, False, False],\n",
       "       [ True,  True, False, False, False],\n",
       "       [ True,  True, False, False, False],\n",
       "       [ True,  True, False, False, False],\n",
       "       [ True,  True,  True, False, False],\n",
       "       [ True,  True,  True, False, False],\n",
       "       [ True,  True,  True, False, False],\n",
       "       [ True,  True,  True, False, False],\n",
       "       [ True,  True,  True, False, False],\n",
       "       [ True,  True,  True, False, False],\n",
       "       [ True,  True,  True, False, False],\n",
       "       [ True,  True,  True, False, False],\n",
       "       [ True,  True,  True, False, False],\n",
       "       [ True,  True,  True, False, False],\n",
       "       [ True, False,  True, False, False],\n",
       "       [ True,  True,  True, False, False],\n",
       "       [ True,  True,  True, False, False],\n",
       "       [ True,  True,  True, False, False],\n",
       "       [ True,  True,  True, False, False],\n",
       "       [ True,  True,  True, False, False],\n",
       "       [ True,  True,  True, False, False],\n",
       "       [ True,  True,  True, False, False],\n",
       "       [ True,  True,  True, False, False],\n",
       "       [ True,  True,  True, False, False],\n",
       "       [ True,  True,  True, False, False],\n",
       "       [ True,  True,  True, False, False],\n",
       "       [ True,  True,  True, False, False],\n",
       "       [ True,  True,  True, False, False],\n",
       "       [ True,  True,  True, False, False],\n",
       "       [ True,  True,  True, False, False],\n",
       "       [ True,  True,  True, False, False],\n",
       "       [ True,  True,  True, False, False],\n",
       "       [ True,  True,  True, False, False],\n",
       "       [ True,  True,  True, False, False],\n",
       "       [ True,  True,  True, False, False],\n",
       "       [ True,  True,  True, False, False],\n",
       "       [ True,  True,  True, False, False],\n",
       "       [ True,  True,  True, False, False],\n",
       "       [ True,  True,  True, False, False],\n",
       "       [ True,  True,  True, False, False],\n",
       "       [ True,  True,  True, False, False],\n",
       "       [ True,  True,  True, False, False],\n",
       "       [ True,  True,  True, False, False],\n",
       "       [ True,  True,  True, False, False],\n",
       "       [ True,  True,  True, False, False],\n",
       "       [ True,  True,  True, False, False],\n",
       "       [ True,  True,  True, False, False],\n",
       "       [ True,  True,  True, False, False],\n",
       "       [ True,  True,  True, False, False],\n",
       "       [ True,  True,  True, False, False],\n",
       "       [ True,  True,  True, False, False],\n",
       "       [ True,  True,  True, False, False],\n",
       "       [ True,  True,  True, False, False],\n",
       "       [ True,  True,  True, False, False],\n",
       "       [ True,  True,  True,  True,  True],\n",
       "       [ True,  True,  True, False,  True],\n",
       "       [ True,  True,  True,  True,  True],\n",
       "       [ True,  True,  True, False,  True],\n",
       "       [ True,  True,  True,  True,  True],\n",
       "       [ True,  True,  True,  True,  True],\n",
       "       [ True,  True,  True, False,  True],\n",
       "       [ True,  True,  True, False,  True],\n",
       "       [ True,  True,  True, False,  True],\n",
       "       [ True,  True,  True,  True,  True],\n",
       "       [ True,  True,  True, False,  True],\n",
       "       [ True,  True,  True, False,  True],\n",
       "       [ True,  True,  True,  True,  True],\n",
       "       [ True,  True,  True, False,  True],\n",
       "       [ True,  True,  True,  True,  True],\n",
       "       [ True,  True,  True,  True,  True],\n",
       "       [ True,  True,  True, False,  True],\n",
       "       [ True,  True,  True,  True,  True],\n",
       "       [ True,  True,  True,  True,  True],\n",
       "       [ True,  True,  True, False,  True],\n",
       "       [ True,  True,  True,  True,  True],\n",
       "       [ True,  True,  True, False,  True],\n",
       "       [ True,  True,  True, False,  True],\n",
       "       [ True,  True,  True, False,  True],\n",
       "       [ True,  True,  True,  True,  True],\n",
       "       [ True,  True,  True, False,  True],\n",
       "       [ True,  True,  True, False,  True],\n",
       "       [ True,  True,  True, False,  True],\n",
       "       [ True,  True,  True,  True,  True],\n",
       "       [ True,  True,  True, False,  True],\n",
       "       [ True,  True,  True, False,  True],\n",
       "       [ True,  True,  True, False,  True],\n",
       "       [ True,  True,  True,  True,  True],\n",
       "       [ True,  True,  True, False,  True],\n",
       "       [ True,  True,  True, False,  True],\n",
       "       [ True,  True,  True,  True,  True],\n",
       "       [ True,  True,  True,  True,  True],\n",
       "       [ True,  True,  True, False,  True],\n",
       "       [ True,  True,  True, False,  True],\n",
       "       [ True,  True,  True,  True,  True],\n",
       "       [ True,  True,  True,  True,  True],\n",
       "       [ True,  True,  True,  True,  True],\n",
       "       [ True,  True,  True, False,  True],\n",
       "       [ True,  True,  True,  True,  True],\n",
       "       [ True,  True,  True,  True,  True],\n",
       "       [ True,  True,  True,  True,  True],\n",
       "       [ True,  True,  True, False,  True],\n",
       "       [ True,  True,  True, False,  True],\n",
       "       [ True,  True,  True,  True,  True],\n",
       "       [ True,  True,  True, False,  True]])"
      ]
     },
     "metadata": {},
     "execution_count": 17
    }
   ],
   "source": [
    "iris > 2"
   ]
  },
  {
   "cell_type": "code",
   "execution_count": 22,
   "metadata": {},
   "outputs": [
    {
     "output_type": "execute_result",
     "data": {
      "text/plain": [
       "array([[5.1, 3.5, 1.4, 0.2, 1. ],\n",
       "       [4.7, 3.2, 1.3, 0.2, 1. ],\n",
       "       [4.6, 3.1, 1.5, 0.2, 1. ],\n",
       "       [5. , 3.6, 1.4, 0.2, 1. ],\n",
       "       [5.4, 3.9, 1.7, 0.4, 1. ],\n",
       "       [4.6, 3.4, 1.4, 0.3, 1. ],\n",
       "       [5. , 3.4, 1.5, 0.2, 1. ],\n",
       "       [4.9, 3.1, 1.5, 0.1, 1. ],\n",
       "       [5.4, 3.7, 1.5, 0.2, 1. ],\n",
       "       [4.8, 3.4, 1.6, 0.2, 1. ],\n",
       "       [5.8, 4. , 1.2, 0.2, 1. ],\n",
       "       [5.7, 4.4, 1.5, 0.4, 1. ],\n",
       "       [5.4, 3.9, 1.3, 0.4, 1. ],\n",
       "       [5.1, 3.5, 1.4, 0.3, 1. ],\n",
       "       [5.7, 3.8, 1.7, 0.3, 1. ],\n",
       "       [5.1, 3.8, 1.5, 0.3, 1. ],\n",
       "       [5.4, 3.4, 1.7, 0.2, 1. ],\n",
       "       [5.1, 3.7, 1.5, 0.4, 1. ],\n",
       "       [4.6, 3.6, 1. , 0.2, 1. ],\n",
       "       [5.1, 3.3, 1.7, 0.5, 1. ],\n",
       "       [4.8, 3.4, 1.9, 0.2, 1. ],\n",
       "       [5. , 3.4, 1.6, 0.4, 1. ],\n",
       "       [5.2, 3.5, 1.5, 0.2, 1. ],\n",
       "       [5.2, 3.4, 1.4, 0.2, 1. ],\n",
       "       [4.7, 3.2, 1.6, 0.2, 1. ],\n",
       "       [4.8, 3.1, 1.6, 0.2, 1. ],\n",
       "       [5.4, 3.4, 1.5, 0.4, 1. ],\n",
       "       [5.2, 4.1, 1.5, 0.1, 1. ],\n",
       "       [5.5, 4.2, 1.4, 0.2, 1. ],\n",
       "       [4.9, 3.1, 1.5, 0.2, 1. ],\n",
       "       [5. , 3.2, 1.2, 0.2, 1. ],\n",
       "       [5.5, 3.5, 1.3, 0.2, 1. ],\n",
       "       [4.9, 3.6, 1.4, 0.1, 1. ],\n",
       "       [5.1, 3.4, 1.5, 0.2, 1. ],\n",
       "       [5. , 3.5, 1.3, 0.3, 1. ],\n",
       "       [4.4, 3.2, 1.3, 0.2, 1. ],\n",
       "       [5. , 3.5, 1.6, 0.6, 1. ],\n",
       "       [5.1, 3.8, 1.9, 0.4, 1. ],\n",
       "       [5.1, 3.8, 1.6, 0.2, 1. ],\n",
       "       [4.6, 3.2, 1.4, 0.2, 1. ],\n",
       "       [5.3, 3.7, 1.5, 0.2, 1. ],\n",
       "       [5. , 3.3, 1.4, 0.2, 1. ],\n",
       "       [7. , 3.2, 4.7, 1.4, 2. ],\n",
       "       [6.4, 3.2, 4.5, 1.5, 2. ],\n",
       "       [6.9, 3.1, 4.9, 1.5, 2. ],\n",
       "       [6.3, 3.3, 4.7, 1.6, 2. ],\n",
       "       [6.7, 3.1, 4.4, 1.4, 2. ],\n",
       "       [5.9, 3.2, 4.8, 1.8, 2. ],\n",
       "       [6. , 3.4, 4.5, 1.6, 2. ],\n",
       "       [6.7, 3.1, 4.7, 1.5, 2. ],\n",
       "       [6.3, 3.3, 6. , 2.5, 3. ],\n",
       "       [7.2, 3.6, 6.1, 2.5, 3. ],\n",
       "       [6.5, 3.2, 5.1, 2. , 3. ],\n",
       "       [6.4, 3.2, 5.3, 2.3, 3. ],\n",
       "       [7.7, 3.8, 6.7, 2.2, 3. ],\n",
       "       [6.9, 3.2, 5.7, 2.3, 3. ],\n",
       "       [6.7, 3.3, 5.7, 2.1, 3. ],\n",
       "       [7.2, 3.2, 6. , 1.8, 3. ],\n",
       "       [7.9, 3.8, 6.4, 2. , 3. ],\n",
       "       [6.3, 3.4, 5.6, 2.4, 3. ],\n",
       "       [6.4, 3.1, 5.5, 1.8, 3. ],\n",
       "       [6.9, 3.1, 5.4, 2.1, 3. ],\n",
       "       [6.7, 3.1, 5.6, 2.4, 3. ],\n",
       "       [6.9, 3.1, 5.1, 2.3, 3. ],\n",
       "       [6.8, 3.2, 5.9, 2.3, 3. ],\n",
       "       [6.7, 3.3, 5.7, 2.5, 3. ],\n",
       "       [6.2, 3.4, 5.4, 2.3, 3. ]])"
      ]
     },
     "metadata": {},
     "execution_count": 22
    }
   ],
   "source": [
    "iris[iris[:,1]>3]"
   ]
  },
  {
   "cell_type": "code",
   "execution_count": 27,
   "metadata": {},
   "outputs": [
    {
     "output_type": "execute_result",
     "data": {
      "text/plain": [
       "array([3., 3., 3., 3., 3., 3., 3., 3., 3., 3., 3., 3., 3., 3., 3., 3., 3.,\n",
       "       3., 3., 3., 3., 3., 3., 3., 3., 3., 3., 3., 3., 3., 3., 3., 3., 3.,\n",
       "       3., 3., 3., 3., 3., 3., 3., 3., 3., 3., 3., 3., 3., 3., 3., 3.])"
      ]
     },
     "metadata": {},
     "execution_count": 27
    }
   ],
   "source": [
    "colonne = iris[iris[:,4]==3]\n",
    "colonne[:,4]"
   ]
  },
  {
   "cell_type": "code",
   "execution_count": 32,
   "metadata": {},
   "outputs": [
    {
     "output_type": "stream",
     "name": "stdout",
     "text": [
      "Conetenu de notre_tableau :\n[ 1  2  3  4  5  6  7  8  9 10 11 12 13 14 15 16 17 18 19 20]\nNouveau tableau après fancy indexing :\n[[ 5 11  6]\n [13  9 10]]\n6\n"
     ]
    }
   ],
   "source": [
    "notre_tableau= np.array([1,2,3,4,5,6,7,8,9,10,11,12,13,14,15,16,17,18,19,20])\n",
    "print(\"Conetenu de notre_tableau :\")\n",
    "print(notre_tableau)\n",
    "print(\"Nouveau tableau après fancy indexing :\")\n",
    "indice = np.array([[4,10,5],[12,8,9]])\n",
    "A = notre_tableau[indice]\n",
    "print(A)\n",
    "print(A[0,2])"
   ]
  },
  {
   "cell_type": "code",
   "execution_count": 33,
   "metadata": {},
   "outputs": [
    {
     "output_type": "execute_result",
     "data": {
      "text/plain": [
       "array([1, 2, 3])"
      ]
     },
     "metadata": {},
     "execution_count": 33
    }
   ],
   "source": [
    "notre_tableau[:3]"
   ]
  },
  {
   "cell_type": "code",
   "execution_count": 34,
   "metadata": {},
   "outputs": [
    {
     "output_type": "execute_result",
     "data": {
      "text/plain": [
       "array([11, 12, 13, 14, 15, 16, 17, 18, 19, 20])"
      ]
     },
     "metadata": {},
     "execution_count": 34
    }
   ],
   "source": [
    "notre_tableau[10:]"
   ]
  },
  {
   "cell_type": "code",
   "execution_count": 35,
   "metadata": {},
   "outputs": [
    {
     "output_type": "execute_result",
     "data": {
      "text/plain": [
       "array([4, 5, 6, 7])"
      ]
     },
     "metadata": {},
     "execution_count": 35
    }
   ],
   "source": [
    "notre_tableau[3:7]"
   ]
  },
  {
   "cell_type": "code",
   "execution_count": 36,
   "metadata": {},
   "outputs": [
    {
     "output_type": "execute_result",
     "data": {
      "text/plain": [
       "array([ 1,  3,  5,  7,  9, 11, 13, 15, 17, 19])"
      ]
     },
     "metadata": {},
     "execution_count": 36
    }
   ],
   "source": [
    "notre_tableau[::2]"
   ]
  },
  {
   "cell_type": "code",
   "execution_count": 40,
   "metadata": {},
   "outputs": [
    {
     "output_type": "execute_result",
     "data": {
      "text/plain": [
       "array([4, 7])"
      ]
     },
     "metadata": {},
     "execution_count": 40
    }
   ],
   "source": [
    "notre_tableau[3:8:3]"
   ]
  },
  {
   "cell_type": "code",
   "execution_count": 41,
   "metadata": {},
   "outputs": [
    {
     "output_type": "execute_result",
     "data": {
      "text/plain": [
       "array([ 3,  5,  7,  9, 11, 13, 15, 17, 19])"
      ]
     },
     "metadata": {},
     "execution_count": 41
    }
   ],
   "source": [
    "notre_tableau[2::2]"
   ]
  },
  {
   "cell_type": "code",
   "execution_count": 42,
   "metadata": {},
   "outputs": [
    {
     "output_type": "execute_result",
     "data": {
      "text/plain": [
       "array([[5.1, 3.5, 1.4, 0.2],\n",
       "       [4.9, 3. , 1.4, 0.2]])"
      ]
     },
     "metadata": {},
     "execution_count": 42
    }
   ],
   "source": [
    "iris[:2,:4]"
   ]
  },
  {
   "cell_type": "code",
   "execution_count": 43,
   "metadata": {},
   "outputs": [
    {
     "output_type": "execute_result",
     "data": {
      "text/plain": [
       "array([[5.2, 2.3, 3. ],\n",
       "       [5. , 1.9, 3. ],\n",
       "       [5.2, 2. , 3. ],\n",
       "       [5.4, 2.3, 3. ],\n",
       "       [5.1, 1.8, 3. ]])"
      ]
     },
     "metadata": {},
     "execution_count": 43
    }
   ],
   "source": [
    "iris[145:,2:]"
   ]
  },
  {
   "cell_type": "code",
   "execution_count": 44,
   "metadata": {},
   "outputs": [
    {
     "output_type": "execute_result",
     "data": {
      "text/plain": [
       "array([5.1, 3.5, 1.4, 0.2, 1. ])"
      ]
     },
     "metadata": {},
     "execution_count": 44
    }
   ],
   "source": [
    "iris[0,:]"
   ]
  },
  {
   "cell_type": "code",
   "execution_count": 45,
   "metadata": {},
   "outputs": [
    {
     "output_type": "execute_result",
     "data": {
      "text/plain": [
       "array([5.1, 4.9, 4.7, 4.6, 5. , 5.4, 4.6, 5. , 4.4, 4.9, 5.4, 4.8, 4.8,\n",
       "       4.3, 5.8, 5.7, 5.4, 5.1, 5.7, 5.1, 5.4, 5.1, 4.6, 5.1, 4.8, 5. ,\n",
       "       5. , 5.2, 5.2, 4.7, 4.8, 5.4, 5.2, 5.5, 4.9, 5. , 5.5, 4.9, 4.4,\n",
       "       5.1, 5. , 4.5, 4.4, 5. , 5.1, 4.8, 5.1, 4.6, 5.3, 5. , 7. , 6.4,\n",
       "       6.9, 5.5, 6.5, 5.7, 6.3, 4.9, 6.6, 5.2, 5. , 5.9, 6. , 6.1, 5.6,\n",
       "       6.7, 5.6, 5.8, 6.2, 5.6, 5.9, 6.1, 6.3, 6.1, 6.4, 6.6, 6.8, 6.7,\n",
       "       6. , 5.7, 5.5, 5.5, 5.8, 6. , 5.4, 6. , 6.7, 6.3, 5.6, 5.5, 5.5,\n",
       "       6.1, 5.8, 5. , 5.6, 5.7, 5.7, 6.2, 5.1, 5.7, 6.3, 5.8, 7.1, 6.3,\n",
       "       6.5, 7.6, 4.9, 7.3, 6.7, 7.2, 6.5, 6.4, 6.8, 5.7, 5.8, 6.4, 6.5,\n",
       "       7.7, 7.7, 6. , 6.9, 5.6, 7.7, 6.3, 6.7, 7.2, 6.2, 6.1, 6.4, 7.2,\n",
       "       7.4, 7.9, 6.4, 6.3, 6.1, 7.7, 6.3, 6.4, 6. , 6.9, 6.7, 6.9, 5.8,\n",
       "       6.8, 6.7, 6.7, 6.3, 6.5, 6.2, 5.9])"
      ]
     },
     "metadata": {},
     "execution_count": 45
    }
   ],
   "source": [
    "iris[:,0]"
   ]
  },
  {
   "cell_type": "code",
   "execution_count": 46,
   "metadata": {},
   "outputs": [
    {
     "output_type": "execute_result",
     "data": {
      "text/plain": [
       "array([5.9, 3. , 5.1, 1.8, 3. ])"
      ]
     },
     "metadata": {},
     "execution_count": 46
    }
   ],
   "source": [
    "iris[-1,:]"
   ]
  },
  {
   "cell_type": "code",
   "execution_count": 47,
   "metadata": {},
   "outputs": [
    {
     "output_type": "execute_result",
     "data": {
      "text/plain": [
       "array([1, 2, 3, 4, 5])"
      ]
     },
     "metadata": {},
     "execution_count": 47
    }
   ],
   "source": [
    "sous_tableau = notre_tableau[:5]\n",
    "sous_tableau"
   ]
  },
  {
   "cell_type": "code",
   "execution_count": 48,
   "metadata": {},
   "outputs": [
    {
     "output_type": "execute_result",
     "data": {
      "text/plain": [
       "array([10,  2,  3,  4,  5])"
      ]
     },
     "metadata": {},
     "execution_count": 48
    }
   ],
   "source": [
    "sous_tableau[0] = 10\n",
    "sous_tableau"
   ]
  },
  {
   "cell_type": "code",
   "execution_count": 49,
   "metadata": {},
   "outputs": [
    {
     "output_type": "execute_result",
     "data": {
      "text/plain": [
       "array([10,  2,  3,  4,  5,  6,  7,  8,  9, 10, 11, 12, 13, 14, 15, 16, 17,\n",
       "       18, 19, 20])"
      ]
     },
     "metadata": {},
     "execution_count": 49
    }
   ],
   "source": [
    "notre_tableau"
   ]
  },
  {
   "cell_type": "code",
   "execution_count": 51,
   "metadata": {},
   "outputs": [
    {
     "output_type": "stream",
     "name": "stdout",
     "text": [
      "[10  2  3  4  5]\n[ 1  2  3  4  5  6  7  8  9 10 11 12 13 14 15 16 17 18 19 20]\n"
     ]
    }
   ],
   "source": [
    "notre_tableau= np.array([1,2,3,4,5,6,7,8,9,10,11,12,13,14,15,16,17,18,19,20])\n",
    "\n",
    "sous_tableau = notre_tableau[:5].copy()\n",
    "sous_tableau[0] = 10\n",
    "print(sous_tableau)\n",
    "print(notre_tableau)"
   ]
  },
  {
   "cell_type": "code",
   "execution_count": 52,
   "metadata": {},
   "outputs": [
    {
     "output_type": "execute_result",
     "data": {
      "text/plain": [
       "array([[10, 11, 12],\n",
       "       [13, 14, 15],\n",
       "       [16, 17, 18]])"
      ]
     },
     "metadata": {},
     "execution_count": 52
    }
   ],
   "source": [
    "mon_tableau = np.array([[10,11,12],[13,14,15],[16,17,18]])\n",
    "mon_tableau"
   ]
  },
  {
   "cell_type": "code",
   "execution_count": 53,
   "metadata": {},
   "outputs": [
    {
     "output_type": "execute_result",
     "data": {
      "text/plain": [
       "array([[20, 21, 22],\n",
       "       [23, 24, 25],\n",
       "       [26, 27, 28]])"
      ]
     },
     "metadata": {},
     "execution_count": 53
    }
   ],
   "source": [
    "np.add(mon_tableau,10)"
   ]
  },
  {
   "cell_type": "code",
   "execution_count": 58,
   "metadata": {},
   "outputs": [
    {
     "output_type": "stream",
     "name": "stdout",
     "text": [
      "[[200 220 240]\n [260 280 300]\n [320 340 360]]\n[[10 11 12]\n [13 14 15]\n [16 17 18]]\n"
     ]
    }
   ],
   "source": [
    "A = np.multiply(mon_tableau,20)\n",
    "print(A)\n",
    "print(mon_tableau)"
   ]
  },
  {
   "cell_type": "code",
   "execution_count": 60,
   "metadata": {},
   "outputs": [
    {
     "output_type": "stream",
     "name": "stdout",
     "text": [
      "[10 20 30]\n[[10 11 12]\n [13 14 15]\n [16 17 18]]\n"
     ]
    }
   ],
   "source": [
    "mon_tableau_2 = np.array([10,20,30])\n",
    "print(mon_tableau_2)\n",
    "print(mon_tableau)"
   ]
  },
  {
   "cell_type": "code",
   "execution_count": 61,
   "metadata": {},
   "outputs": [
    {
     "output_type": "execute_result",
     "data": {
      "text/plain": [
       "array([[  0,  -9, -18],\n",
       "       [  3,  -6, -15],\n",
       "       [  6,  -3, -12]])"
      ]
     },
     "metadata": {},
     "execution_count": 61
    }
   ],
   "source": [
    "np.subtract(mon_tableau,mon_tableau_2)"
   ]
  },
  {
   "cell_type": "code",
   "execution_count": 63,
   "metadata": {},
   "outputs": [
    {
     "output_type": "execute_result",
     "data": {
      "text/plain": [
       "array([10, 20, 30])"
      ]
     },
     "metadata": {},
     "execution_count": 63
    }
   ],
   "source": [
    "mon_tableau_2"
   ]
  },
  {
   "cell_type": "code",
   "execution_count": 64,
   "metadata": {},
   "outputs": [
    {
     "output_type": "execute_result",
     "data": {
      "text/plain": [
       "array([[1, 2, 3],\n",
       "       [4, 5, 6],\n",
       "       [7, 8, 9]])"
      ]
     },
     "metadata": {},
     "execution_count": 64
    }
   ],
   "source": [
    "mon_tableau_3 = np.array([[1,2,3],[4,5,6],[7,8,9]])\n",
    "mon_tableau_3"
   ]
  },
  {
   "cell_type": "code",
   "execution_count": 65,
   "metadata": {},
   "outputs": [
    {
     "output_type": "execute_result",
     "data": {
      "text/plain": [
       "array([[ 10,  22,  36],\n",
       "       [ 52,  70,  90],\n",
       "       [112, 136, 162]])"
      ]
     },
     "metadata": {},
     "execution_count": 65
    }
   ],
   "source": [
    "np.multiply(mon_tableau,mon_tableau_3)"
   ]
  },
  {
   "cell_type": "code",
   "execution_count": 66,
   "metadata": {},
   "outputs": [
    {
     "output_type": "stream",
     "name": "stdout",
     "text": [
      "Somme sur l'ensemble des éléments :\n[876.5 458.6 563.7 179.9 300. ]\nsomme par ligne: \n[11.2 10.5 10.4 10.4 11.2 12.4 10.7 11.1  9.9 10.6 11.8 11.  10.3  9.5\n 12.2 13.  12.  11.3 12.5 11.7 11.7 11.7 10.4 11.6 11.3 10.8 11.4 11.4\n 11.2 10.7 10.7 11.7 11.9 12.3 10.7 10.6 11.5 11.   9.9 11.2 11.1  9.4\n 10.1 11.7 12.2 10.5 11.7 10.4 11.7 10.9 18.3 17.6 18.4 15.1 17.4 16.3\n 17.9 13.6 17.4 15.2 13.5 16.6 15.2 17.1 15.4 17.6 16.6 15.6 16.4 15.1\n 17.7 16.2 17.2 16.8 16.9 17.4 17.8 18.4 16.9 14.8 14.8 14.6 15.6 17.4\n 16.4 17.5 18.  16.3 16.  15.3 15.7 17.1 15.6 13.6 15.8 16.1 16.1 16.7\n 13.7 15.9 21.1 18.5 21.1 19.6 20.5 22.3 16.6 21.3 19.8 22.4 19.8 19.3\n 20.4 18.2 19.1 20.2 19.8 23.4 22.5 17.7 21.1 18.3 22.2 18.7 20.8 21.2\n 18.6 18.8 19.9 20.6 21.2 23.1 20.  18.7 18.7 22.1 20.7 19.8 18.6 20.5\n 20.8 20.4 18.5 21.2 21.2 20.2 18.7 19.7 20.3 18.8]\n"
     ]
    }
   ],
   "source": [
    "print(\"Somme sur l'ensemble des éléments :\")\n",
    "print(np.sum(iris, axis=0))\n",
    "print(\"somme par ligne: \")\n",
    "print(np.sum(iris, axis=1))"
   ]
  },
  {
   "cell_type": "code",
   "execution_count": 68,
   "metadata": {},
   "outputs": [
    {
     "output_type": "stream",
     "name": "stdout",
     "text": [
      "[5.84333333 3.05733333 3.758      1.19933333 2.        ]\n[0.82530129 0.43441097 1.75940407 0.75969263 0.81649658]\n"
     ]
    }
   ],
   "source": [
    "print(np.mean(iris, axis=0))\n",
    "print(np.std(iris, axis=0))"
   ]
  },
  {
   "cell_type": "code",
   "execution_count": 70,
   "metadata": {},
   "outputs": [
    {
     "output_type": "stream",
     "name": "stdout",
     "text": [
      "[7.9 4.4 6.9 2.5 3. ]\n"
     ]
    }
   ],
   "source": [
    "print(np.max(iris, axis=0))"
   ]
  },
  {
   "cell_type": "code",
   "execution_count": 74,
   "metadata": {},
   "outputs": [
    {
     "output_type": "stream",
     "name": "stdout",
     "text": [
      "[5.1 4.9 4.7 4.6 5.  5.4 4.6 5.  4.4 4.9 5.4 4.8 4.8 4.3 5.8 5.7 5.4 5.1\n 5.7 5.1 5.4 5.1 4.6 5.1 4.8 5.  5.  5.2 5.2 4.7 4.8 5.4 5.2 5.5 4.9 5.\n 5.5 4.9 4.4 5.1 5.  4.5 4.4 5.  5.1 4.8 5.1 4.6 5.3 5.  7.  6.4 6.9 5.5\n 6.5 5.7 6.3 4.9 6.6 5.2 5.  5.9 6.  6.1 5.6 6.7 5.6 5.8 6.2 5.6 5.9 6.1\n 6.3 6.1 6.4 6.6 6.8 6.7 6.  5.7 5.5 5.5 5.8 6.  5.4 6.  6.7 6.3 5.6 5.5\n 5.5 6.1 5.8 5.  5.6 5.7 5.7 6.2 5.1 5.7 6.3 5.8 7.1 6.3 6.5 7.6 4.9 7.3\n 6.7 7.2 6.5 6.4 6.8 5.7 5.8 6.4 6.5 7.7 7.7 6.  6.9 5.6 7.7 6.3 6.7 7.2\n 6.2 6.1 6.4 7.2 7.4 7.9 6.4 6.3 6.1 7.7 6.3 6.4 6.  6.9 6.7 6.9 5.8 6.8\n 6.7 6.7 6.3 6.5 6.2 5.9]\n"
     ]
    }
   ],
   "source": [
    "print(np.max(iris,axis=1))"
   ]
  },
  {
   "cell_type": "code",
   "execution_count": 88,
   "metadata": {},
   "outputs": [
    {
     "output_type": "stream",
     "name": "stdout",
     "text": [
      "[5.006 3.428 1.462 0.246 1.   ]\n[5.936 2.77  4.26  1.326 2.   ]\n[6.588 2.974 5.552 2.026 3.   ]\n"
     ]
    }
   ],
   "source": [
    "colonne_1 = iris[iris[:,4]==1]\n",
    "colonne_2 = iris[iris[:,4]==2]\n",
    "colonne_3 = iris[iris[:,4]==3]\n",
    "\n",
    "print(np.mean(colonne_1,axis=0))\n",
    "print(np.mean(colonne_2,axis=0))\n",
    "print(np.mean(colonne_3,axis=0))"
   ]
  },
  {
   "cell_type": "code",
   "execution_count": 92,
   "metadata": {},
   "outputs": [
    {
     "output_type": "stream",
     "name": "stdout",
     "text": [
      "Attribut size\n750\nAttribut shape\n(150, 5)\nAttribut dtype\nfloat64\nAttribut ndim\n2\n"
     ]
    }
   ],
   "source": [
    "print(\"Attribut size\")\n",
    "print(iris.size)\n",
    "print(\"Attribut shape\")\n",
    "print(iris.shape)\n",
    "print(\"Attribut dtype\")\n",
    "print(iris.dtype)\n",
    "print(\"Attribut ndim\")\n",
    "print(iris.ndim)"
   ]
  },
  {
   "cell_type": "code",
   "execution_count": 93,
   "metadata": {},
   "outputs": [
    {
     "output_type": "execute_result",
     "data": {
      "text/plain": [
       "array([[5.1, 4.9, 4.7, 4.6, 5. , 5.4, 4.6, 5. , 4.4, 4.9, 5.4, 4.8, 4.8,\n",
       "        4.3, 5.8, 5.7, 5.4, 5.1, 5.7, 5.1, 5.4, 5.1, 4.6, 5.1, 4.8, 5. ,\n",
       "        5. , 5.2, 5.2, 4.7, 4.8, 5.4, 5.2, 5.5, 4.9, 5. , 5.5, 4.9, 4.4,\n",
       "        5.1, 5. , 4.5, 4.4, 5. , 5.1, 4.8, 5.1, 4.6, 5.3, 5. , 7. , 6.4,\n",
       "        6.9, 5.5, 6.5, 5.7, 6.3, 4.9, 6.6, 5.2, 5. , 5.9, 6. , 6.1, 5.6,\n",
       "        6.7, 5.6, 5.8, 6.2, 5.6, 5.9, 6.1, 6.3, 6.1, 6.4, 6.6, 6.8, 6.7,\n",
       "        6. , 5.7, 5.5, 5.5, 5.8, 6. , 5.4, 6. , 6.7, 6.3, 5.6, 5.5, 5.5,\n",
       "        6.1, 5.8, 5. , 5.6, 5.7, 5.7, 6.2, 5.1, 5.7, 6.3, 5.8, 7.1, 6.3,\n",
       "        6.5, 7.6, 4.9, 7.3, 6.7, 7.2, 6.5, 6.4, 6.8, 5.7, 5.8, 6.4, 6.5,\n",
       "        7.7, 7.7, 6. , 6.9, 5.6, 7.7, 6.3, 6.7, 7.2, 6.2, 6.1, 6.4, 7.2,\n",
       "        7.4, 7.9, 6.4, 6.3, 6.1, 7.7, 6.3, 6.4, 6. , 6.9, 6.7, 6.9, 5.8,\n",
       "        6.8, 6.7, 6.7, 6.3, 6.5, 6.2, 5.9],\n",
       "       [3.5, 3. , 3.2, 3.1, 3.6, 3.9, 3.4, 3.4, 2.9, 3.1, 3.7, 3.4, 3. ,\n",
       "        3. , 4. , 4.4, 3.9, 3.5, 3.8, 3.8, 3.4, 3.7, 3.6, 3.3, 3.4, 3. ,\n",
       "        3.4, 3.5, 3.4, 3.2, 3.1, 3.4, 4.1, 4.2, 3.1, 3.2, 3.5, 3.6, 3. ,\n",
       "        3.4, 3.5, 2.3, 3.2, 3.5, 3.8, 3. , 3.8, 3.2, 3.7, 3.3, 3.2, 3.2,\n",
       "        3.1, 2.3, 2.8, 2.8, 3.3, 2.4, 2.9, 2.7, 2. , 3. , 2.2, 2.9, 2.9,\n",
       "        3.1, 3. , 2.7, 2.2, 2.5, 3.2, 2.8, 2.5, 2.8, 2.9, 3. , 2.8, 3. ,\n",
       "        2.9, 2.6, 2.4, 2.4, 2.7, 2.7, 3. , 3.4, 3.1, 2.3, 3. , 2.5, 2.6,\n",
       "        3. , 2.6, 2.3, 2.7, 3. , 2.9, 2.9, 2.5, 2.8, 3.3, 2.7, 3. , 2.9,\n",
       "        3. , 3. , 2.5, 2.9, 2.5, 3.6, 3.2, 2.7, 3. , 2.5, 2.8, 3.2, 3. ,\n",
       "        3.8, 2.6, 2.2, 3.2, 2.8, 2.8, 2.7, 3.3, 3.2, 2.8, 3. , 2.8, 3. ,\n",
       "        2.8, 3.8, 2.8, 2.8, 2.6, 3. , 3.4, 3.1, 3. , 3.1, 3.1, 3.1, 2.7,\n",
       "        3.2, 3.3, 3. , 2.5, 3. , 3.4, 3. ],\n",
       "       [1.4, 1.4, 1.3, 1.5, 1.4, 1.7, 1.4, 1.5, 1.4, 1.5, 1.5, 1.6, 1.4,\n",
       "        1.1, 1.2, 1.5, 1.3, 1.4, 1.7, 1.5, 1.7, 1.5, 1. , 1.7, 1.9, 1.6,\n",
       "        1.6, 1.5, 1.4, 1.6, 1.6, 1.5, 1.5, 1.4, 1.5, 1.2, 1.3, 1.4, 1.3,\n",
       "        1.5, 1.3, 1.3, 1.3, 1.6, 1.9, 1.4, 1.6, 1.4, 1.5, 1.4, 4.7, 4.5,\n",
       "        4.9, 4. , 4.6, 4.5, 4.7, 3.3, 4.6, 3.9, 3.5, 4.2, 4. , 4.7, 3.6,\n",
       "        4.4, 4.5, 4.1, 4.5, 3.9, 4.8, 4. , 4.9, 4.7, 4.3, 4.4, 4.8, 5. ,\n",
       "        4.5, 3.5, 3.8, 3.7, 3.9, 5.1, 4.5, 4.5, 4.7, 4.4, 4.1, 4. , 4.4,\n",
       "        4.6, 4. , 3.3, 4.2, 4.2, 4.2, 4.3, 3. , 4.1, 6. , 5.1, 5.9, 5.6,\n",
       "        5.8, 6.6, 4.5, 6.3, 5.8, 6.1, 5.1, 5.3, 5.5, 5. , 5.1, 5.3, 5.5,\n",
       "        6.7, 6.9, 5. , 5.7, 4.9, 6.7, 4.9, 5.7, 6. , 4.8, 4.9, 5.6, 5.8,\n",
       "        6.1, 6.4, 5.6, 5.1, 5.6, 6.1, 5.6, 5.5, 4.8, 5.4, 5.6, 5.1, 5.1,\n",
       "        5.9, 5.7, 5.2, 5. , 5.2, 5.4, 5.1],\n",
       "       [0.2, 0.2, 0.2, 0.2, 0.2, 0.4, 0.3, 0.2, 0.2, 0.1, 0.2, 0.2, 0.1,\n",
       "        0.1, 0.2, 0.4, 0.4, 0.3, 0.3, 0.3, 0.2, 0.4, 0.2, 0.5, 0.2, 0.2,\n",
       "        0.4, 0.2, 0.2, 0.2, 0.2, 0.4, 0.1, 0.2, 0.2, 0.2, 0.2, 0.1, 0.2,\n",
       "        0.2, 0.3, 0.3, 0.2, 0.6, 0.4, 0.3, 0.2, 0.2, 0.2, 0.2, 1.4, 1.5,\n",
       "        1.5, 1.3, 1.5, 1.3, 1.6, 1. , 1.3, 1.4, 1. , 1.5, 1. , 1.4, 1.3,\n",
       "        1.4, 1.5, 1. , 1.5, 1.1, 1.8, 1.3, 1.5, 1.2, 1.3, 1.4, 1.4, 1.7,\n",
       "        1.5, 1. , 1.1, 1. , 1.2, 1.6, 1.5, 1.6, 1.5, 1.3, 1.3, 1.3, 1.2,\n",
       "        1.4, 1.2, 1. , 1.3, 1.2, 1.3, 1.3, 1.1, 1.3, 2.5, 1.9, 2.1, 1.8,\n",
       "        2.2, 2.1, 1.7, 1.8, 1.8, 2.5, 2. , 1.9, 2.1, 2. , 2.4, 2.3, 1.8,\n",
       "        2.2, 2.3, 1.5, 2.3, 2. , 2. , 1.8, 2.1, 1.8, 1.8, 1.8, 2.1, 1.6,\n",
       "        1.9, 2. , 2.2, 1.5, 1.4, 2.3, 2.4, 1.8, 1.8, 2.1, 2.4, 2.3, 1.9,\n",
       "        2.3, 2.5, 2.3, 1.9, 2. , 2.3, 1.8],\n",
       "       [1. , 1. , 1. , 1. , 1. , 1. , 1. , 1. , 1. , 1. , 1. , 1. , 1. ,\n",
       "        1. , 1. , 1. , 1. , 1. , 1. , 1. , 1. , 1. , 1. , 1. , 1. , 1. ,\n",
       "        1. , 1. , 1. , 1. , 1. , 1. , 1. , 1. , 1. , 1. , 1. , 1. , 1. ,\n",
       "        1. , 1. , 1. , 1. , 1. , 1. , 1. , 1. , 1. , 1. , 1. , 2. , 2. ,\n",
       "        2. , 2. , 2. , 2. , 2. , 2. , 2. , 2. , 2. , 2. , 2. , 2. , 2. ,\n",
       "        2. , 2. , 2. , 2. , 2. , 2. , 2. , 2. , 2. , 2. , 2. , 2. , 2. ,\n",
       "        2. , 2. , 2. , 2. , 2. , 2. , 2. , 2. , 2. , 2. , 2. , 2. , 2. ,\n",
       "        2. , 2. , 2. , 2. , 2. , 2. , 2. , 2. , 2. , 3. , 3. , 3. , 3. ,\n",
       "        3. , 3. , 3. , 3. , 3. , 3. , 3. , 3. , 3. , 3. , 3. , 3. , 3. ,\n",
       "        3. , 3. , 3. , 3. , 3. , 3. , 3. , 3. , 3. , 3. , 3. , 3. , 3. ,\n",
       "        3. , 3. , 3. , 3. , 3. , 3. , 3. , 3. , 3. , 3. , 3. , 3. , 3. ,\n",
       "        3. , 3. , 3. , 3. , 3. , 3. , 3. ]])"
      ]
     },
     "metadata": {},
     "execution_count": 93
    }
   ],
   "source": [
    "iris.T"
   ]
  },
  {
   "cell_type": "code",
   "execution_count": 94,
   "metadata": {},
   "outputs": [
    {
     "output_type": "stream",
     "name": "stdout",
     "text": [
      "[[6.3 3.3 6.  2.5 3. ]\n [7.1 3.  5.9 2.1 3. ]\n [6.5 3.  5.8 2.2 3. ]\n [7.6 3.  6.6 2.1 3. ]\n [7.2 3.6 6.1 2.5 3. ]\n [6.8 3.  5.5 2.1 3. ]\n [5.8 2.8 5.1 2.4 3. ]\n [6.4 3.2 5.3 2.3 3. ]\n [7.7 3.8 6.7 2.2 3. ]\n [7.7 2.6 6.9 2.3 3. ]\n [6.9 3.2 5.7 2.3 3. ]\n [6.7 3.3 5.7 2.1 3. ]\n [6.4 2.8 5.6 2.1 3. ]\n [6.4 2.8 5.6 2.2 3. ]\n [7.7 3.  6.1 2.3 3. ]\n [6.3 3.4 5.6 2.4 3. ]\n [6.9 3.1 5.4 2.1 3. ]\n [6.7 3.1 5.6 2.4 3. ]\n [6.9 3.1 5.1 2.3 3. ]\n [6.8 3.2 5.9 2.3 3. ]\n [6.7 3.3 5.7 2.5 3. ]\n [6.7 3.  5.2 2.3 3. ]\n [6.2 3.4 5.4 2.3 3. ]]\n"
     ]
    }
   ],
   "source": [
    "print(iris[(iris[:,4] == 3) & (iris[:, 3] > 2)])"
   ]
  },
  {
   "cell_type": "code",
   "execution_count": 96,
   "metadata": {},
   "outputs": [
    {
     "output_type": "execute_result",
     "data": {
      "text/plain": [
       "array([ 1,  2,  3,  4,  5,  6,  7,  8,  9, 10, 11, 12, 13, 14, 15, 16, 17,\n",
       "       18, 19, 20, 21, 22, 23, 24, 25])"
      ]
     },
     "metadata": {},
     "execution_count": 96
    }
   ],
   "source": [
    "np.append(notre_tableau,[21,22,23,24,25])"
   ]
  },
  {
   "cell_type": "code",
   "execution_count": 97,
   "metadata": {},
   "outputs": [
    {
     "output_type": "execute_result",
     "data": {
      "text/plain": [
       "array([[ 5.1,  3.5,  1.4,  0.2,  1. ],\n",
       "       [ 4.9,  3. ,  1.4,  0.2,  1. ],\n",
       "       [ 4.7,  3.2,  1.3,  0.2,  1. ],\n",
       "       [ 4.6,  3.1,  1.5,  0.2,  1. ],\n",
       "       [ 5. ,  3.6,  1.4,  0.2,  1. ],\n",
       "       [ 5.4,  3.9,  1.7,  0.4,  1. ],\n",
       "       [ 4.6,  3.4,  1.4,  0.3,  1. ],\n",
       "       [ 5. ,  3.4,  1.5,  0.2,  1. ],\n",
       "       [ 4.4,  2.9,  1.4,  0.2,  1. ],\n",
       "       [ 4.9,  3.1,  1.5,  0.1,  1. ],\n",
       "       [ 5.4,  3.7,  1.5,  0.2,  1. ],\n",
       "       [ 4.8,  3.4,  1.6,  0.2,  1. ],\n",
       "       [ 4.8,  3. ,  1.4,  0.1,  1. ],\n",
       "       [ 4.3,  3. ,  1.1,  0.1,  1. ],\n",
       "       [ 5.8,  4. ,  1.2,  0.2,  1. ],\n",
       "       [ 5.7,  4.4,  1.5,  0.4,  1. ],\n",
       "       [ 5.4,  3.9,  1.3,  0.4,  1. ],\n",
       "       [ 5.1,  3.5,  1.4,  0.3,  1. ],\n",
       "       [ 5.7,  3.8,  1.7,  0.3,  1. ],\n",
       "       [ 5.1,  3.8,  1.5,  0.3,  1. ],\n",
       "       [ 5.4,  3.4,  1.7,  0.2,  1. ],\n",
       "       [ 5.1,  3.7,  1.5,  0.4,  1. ],\n",
       "       [ 4.6,  3.6,  1. ,  0.2,  1. ],\n",
       "       [ 5.1,  3.3,  1.7,  0.5,  1. ],\n",
       "       [ 4.8,  3.4,  1.9,  0.2,  1. ],\n",
       "       [ 5. ,  3. ,  1.6,  0.2,  1. ],\n",
       "       [ 5. ,  3.4,  1.6,  0.4,  1. ],\n",
       "       [ 5.2,  3.5,  1.5,  0.2,  1. ],\n",
       "       [ 5.2,  3.4,  1.4,  0.2,  1. ],\n",
       "       [ 4.7,  3.2,  1.6,  0.2,  1. ],\n",
       "       [ 4.8,  3.1,  1.6,  0.2,  1. ],\n",
       "       [ 5.4,  3.4,  1.5,  0.4,  1. ],\n",
       "       [ 5.2,  4.1,  1.5,  0.1,  1. ],\n",
       "       [ 5.5,  4.2,  1.4,  0.2,  1. ],\n",
       "       [ 4.9,  3.1,  1.5,  0.2,  1. ],\n",
       "       [ 5. ,  3.2,  1.2,  0.2,  1. ],\n",
       "       [ 5.5,  3.5,  1.3,  0.2,  1. ],\n",
       "       [ 4.9,  3.6,  1.4,  0.1,  1. ],\n",
       "       [ 4.4,  3. ,  1.3,  0.2,  1. ],\n",
       "       [ 5.1,  3.4,  1.5,  0.2,  1. ],\n",
       "       [ 5. ,  3.5,  1.3,  0.3,  1. ],\n",
       "       [ 4.5,  2.3,  1.3,  0.3,  1. ],\n",
       "       [ 4.4,  3.2,  1.3,  0.2,  1. ],\n",
       "       [ 5. ,  3.5,  1.6,  0.6,  1. ],\n",
       "       [ 5.1,  3.8,  1.9,  0.4,  1. ],\n",
       "       [ 4.8,  3. ,  1.4,  0.3,  1. ],\n",
       "       [ 5.1,  3.8,  1.6,  0.2,  1. ],\n",
       "       [ 4.6,  3.2,  1.4,  0.2,  1. ],\n",
       "       [ 5.3,  3.7,  1.5,  0.2,  1. ],\n",
       "       [ 5. ,  3.3,  1.4,  0.2,  1. ],\n",
       "       [ 7. ,  3.2,  4.7,  1.4,  2. ],\n",
       "       [ 6.4,  3.2,  4.5,  1.5,  2. ],\n",
       "       [ 6.9,  3.1,  4.9,  1.5,  2. ],\n",
       "       [ 5.5,  2.3,  4. ,  1.3,  2. ],\n",
       "       [ 6.5,  2.8,  4.6,  1.5,  2. ],\n",
       "       [ 5.7,  2.8,  4.5,  1.3,  2. ],\n",
       "       [ 6.3,  3.3,  4.7,  1.6,  2. ],\n",
       "       [ 4.9,  2.4,  3.3,  1. ,  2. ],\n",
       "       [ 6.6,  2.9,  4.6,  1.3,  2. ],\n",
       "       [ 5.2,  2.7,  3.9,  1.4,  2. ],\n",
       "       [ 5. ,  2. ,  3.5,  1. ,  2. ],\n",
       "       [ 5.9,  3. ,  4.2,  1.5,  2. ],\n",
       "       [ 6. ,  2.2,  4. ,  1. ,  2. ],\n",
       "       [ 6.1,  2.9,  4.7,  1.4,  2. ],\n",
       "       [ 5.6,  2.9,  3.6,  1.3,  2. ],\n",
       "       [ 6.7,  3.1,  4.4,  1.4,  2. ],\n",
       "       [ 5.6,  3. ,  4.5,  1.5,  2. ],\n",
       "       [ 5.8,  2.7,  4.1,  1. ,  2. ],\n",
       "       [ 6.2,  2.2,  4.5,  1.5,  2. ],\n",
       "       [ 5.6,  2.5,  3.9,  1.1,  2. ],\n",
       "       [ 5.9,  3.2,  4.8,  1.8,  2. ],\n",
       "       [ 6.1,  2.8,  4. ,  1.3,  2. ],\n",
       "       [ 6.3,  2.5,  4.9,  1.5,  2. ],\n",
       "       [ 6.1,  2.8,  4.7,  1.2,  2. ],\n",
       "       [ 6.4,  2.9,  4.3,  1.3,  2. ],\n",
       "       [ 6.6,  3. ,  4.4,  1.4,  2. ],\n",
       "       [ 6.8,  2.8,  4.8,  1.4,  2. ],\n",
       "       [ 6.7,  3. ,  5. ,  1.7,  2. ],\n",
       "       [ 6. ,  2.9,  4.5,  1.5,  2. ],\n",
       "       [ 5.7,  2.6,  3.5,  1. ,  2. ],\n",
       "       [ 5.5,  2.4,  3.8,  1.1,  2. ],\n",
       "       [ 5.5,  2.4,  3.7,  1. ,  2. ],\n",
       "       [ 5.8,  2.7,  3.9,  1.2,  2. ],\n",
       "       [ 6. ,  2.7,  5.1,  1.6,  2. ],\n",
       "       [ 5.4,  3. ,  4.5,  1.5,  2. ],\n",
       "       [ 6. ,  3.4,  4.5,  1.6,  2. ],\n",
       "       [ 6.7,  3.1,  4.7,  1.5,  2. ],\n",
       "       [ 6.3,  2.3,  4.4,  1.3,  2. ],\n",
       "       [ 5.6,  3. ,  4.1,  1.3,  2. ],\n",
       "       [ 5.5,  2.5,  4. ,  1.3,  2. ],\n",
       "       [ 5.5,  2.6,  4.4,  1.2,  2. ],\n",
       "       [ 6.1,  3. ,  4.6,  1.4,  2. ],\n",
       "       [ 5.8,  2.6,  4. ,  1.2,  2. ],\n",
       "       [ 5. ,  2.3,  3.3,  1. ,  2. ],\n",
       "       [ 5.6,  2.7,  4.2,  1.3,  2. ],\n",
       "       [ 5.7,  3. ,  4.2,  1.2,  2. ],\n",
       "       [ 5.7,  2.9,  4.2,  1.3,  2. ],\n",
       "       [ 6.2,  2.9,  4.3,  1.3,  2. ],\n",
       "       [ 5.1,  2.5,  3. ,  1.1,  2. ],\n",
       "       [ 5.7,  2.8,  4.1,  1.3,  2. ],\n",
       "       [ 6.3,  3.3,  6. ,  2.5,  3. ],\n",
       "       [ 5.8,  2.7,  5.1,  1.9,  3. ],\n",
       "       [ 7.1,  3. ,  5.9,  2.1,  3. ],\n",
       "       [ 6.3,  2.9,  5.6,  1.8,  3. ],\n",
       "       [ 6.5,  3. ,  5.8,  2.2,  3. ],\n",
       "       [ 7.6,  3. ,  6.6,  2.1,  3. ],\n",
       "       [ 4.9,  2.5,  4.5,  1.7,  3. ],\n",
       "       [ 7.3,  2.9,  6.3,  1.8,  3. ],\n",
       "       [ 6.7,  2.5,  5.8,  1.8,  3. ],\n",
       "       [ 7.2,  3.6,  6.1,  2.5,  3. ],\n",
       "       [ 6.5,  3.2,  5.1,  2. ,  3. ],\n",
       "       [ 6.4,  2.7,  5.3,  1.9,  3. ],\n",
       "       [ 6.8,  3. ,  5.5,  2.1,  3. ],\n",
       "       [ 5.7,  2.5,  5. ,  2. ,  3. ],\n",
       "       [ 5.8,  2.8,  5.1,  2.4,  3. ],\n",
       "       [ 6.4,  3.2,  5.3,  2.3,  3. ],\n",
       "       [ 6.5,  3. ,  5.5,  1.8,  3. ],\n",
       "       [ 7.7,  3.8,  6.7,  2.2,  3. ],\n",
       "       [ 7.7,  2.6,  6.9,  2.3,  3. ],\n",
       "       [ 6. ,  2.2,  5. ,  1.5,  3. ],\n",
       "       [ 6.9,  3.2,  5.7,  2.3,  3. ],\n",
       "       [ 5.6,  2.8,  4.9,  2. ,  3. ],\n",
       "       [ 7.7,  2.8,  6.7,  2. ,  3. ],\n",
       "       [ 6.3,  2.7,  4.9,  1.8,  3. ],\n",
       "       [ 6.7,  3.3,  5.7,  2.1,  3. ],\n",
       "       [ 7.2,  3.2,  6. ,  1.8,  3. ],\n",
       "       [ 6.2,  2.8,  4.8,  1.8,  3. ],\n",
       "       [ 6.1,  3. ,  4.9,  1.8,  3. ],\n",
       "       [ 6.4,  2.8,  5.6,  2.1,  3. ],\n",
       "       [ 7.2,  3. ,  5.8,  1.6,  3. ],\n",
       "       [ 7.4,  2.8,  6.1,  1.9,  3. ],\n",
       "       [ 7.9,  3.8,  6.4,  2. ,  3. ],\n",
       "       [ 6.4,  2.8,  5.6,  2.2,  3. ],\n",
       "       [ 6.3,  2.8,  5.1,  1.5,  3. ],\n",
       "       [ 6.1,  2.6,  5.6,  1.4,  3. ],\n",
       "       [ 7.7,  3. ,  6.1,  2.3,  3. ],\n",
       "       [ 6.3,  3.4,  5.6,  2.4,  3. ],\n",
       "       [ 6.4,  3.1,  5.5,  1.8,  3. ],\n",
       "       [ 6. ,  3. ,  4.8,  1.8,  3. ],\n",
       "       [ 6.9,  3.1,  5.4,  2.1,  3. ],\n",
       "       [ 6.7,  3.1,  5.6,  2.4,  3. ],\n",
       "       [ 6.9,  3.1,  5.1,  2.3,  3. ],\n",
       "       [ 5.8,  2.7,  5.1,  1.9,  3. ],\n",
       "       [ 6.8,  3.2,  5.9,  2.3,  3. ],\n",
       "       [ 6.7,  3.3,  5.7,  2.5,  3. ],\n",
       "       [ 6.7,  3. ,  5.2,  2.3,  3. ],\n",
       "       [ 6.3,  2.5,  5. ,  1.9,  3. ],\n",
       "       [ 6.5,  3. ,  5.2,  2. ,  3. ],\n",
       "       [ 6.2,  3.4,  5.4,  2.3,  3. ],\n",
       "       [ 5.9,  3. ,  5.1,  1.8,  3. ],\n",
       "       [10. , 10. , 10. , 10. , 10. ]])"
      ]
     },
     "metadata": {},
     "execution_count": 97
    }
   ],
   "source": [
    "np.append(iris,[[10,10,10,10,10]],axis=0)"
   ]
  },
  {
   "cell_type": "code",
   "execution_count": 98,
   "metadata": {},
   "outputs": [
    {
     "output_type": "execute_result",
     "data": {
      "text/plain": [
       "array([ 1, 42,  2,  3,  4,  5,  6,  7,  8,  9, 10, 11, 12, 13, 14, 15, 16,\n",
       "       17, 18, 19, 20])"
      ]
     },
     "metadata": {},
     "execution_count": 98
    }
   ],
   "source": [
    "np.insert(notre_tableau,1,42)"
   ]
  },
  {
   "cell_type": "code",
   "execution_count": 99,
   "metadata": {},
   "outputs": [
    {
     "output_type": "execute_result",
     "data": {
      "text/plain": [
       "array([ 1, 42, 43, 44, 45, 46,  2,  3,  4,  5,  6,  7,  8,  9, 10, 11, 12,\n",
       "       13, 14, 15, 16, 17, 18, 19, 20])"
      ]
     },
     "metadata": {},
     "execution_count": 99
    }
   ],
   "source": [
    "np.insert(notre_tableau, 1, [42,43,44,45,46])"
   ]
  },
  {
   "cell_type": "code",
   "execution_count": 100,
   "metadata": {},
   "outputs": [
    {
     "output_type": "execute_result",
     "data": {
      "text/plain": [
       "array([[ 5.1,  3.5,  1.4,  0.2,  1. ],\n",
       "       [10. , 10. , 10. , 10. , 10. ],\n",
       "       [ 4.9,  3. ,  1.4,  0.2,  1. ],\n",
       "       [ 4.7,  3.2,  1.3,  0.2,  1. ],\n",
       "       [ 4.6,  3.1,  1.5,  0.2,  1. ],\n",
       "       [ 5. ,  3.6,  1.4,  0.2,  1. ],\n",
       "       [ 5.4,  3.9,  1.7,  0.4,  1. ],\n",
       "       [ 4.6,  3.4,  1.4,  0.3,  1. ],\n",
       "       [ 5. ,  3.4,  1.5,  0.2,  1. ],\n",
       "       [ 4.4,  2.9,  1.4,  0.2,  1. ],\n",
       "       [ 4.9,  3.1,  1.5,  0.1,  1. ],\n",
       "       [ 5.4,  3.7,  1.5,  0.2,  1. ],\n",
       "       [ 4.8,  3.4,  1.6,  0.2,  1. ],\n",
       "       [ 4.8,  3. ,  1.4,  0.1,  1. ],\n",
       "       [ 4.3,  3. ,  1.1,  0.1,  1. ],\n",
       "       [ 5.8,  4. ,  1.2,  0.2,  1. ],\n",
       "       [ 5.7,  4.4,  1.5,  0.4,  1. ],\n",
       "       [ 5.4,  3.9,  1.3,  0.4,  1. ],\n",
       "       [ 5.1,  3.5,  1.4,  0.3,  1. ],\n",
       "       [ 5.7,  3.8,  1.7,  0.3,  1. ],\n",
       "       [ 5.1,  3.8,  1.5,  0.3,  1. ],\n",
       "       [ 5.4,  3.4,  1.7,  0.2,  1. ],\n",
       "       [ 5.1,  3.7,  1.5,  0.4,  1. ],\n",
       "       [ 4.6,  3.6,  1. ,  0.2,  1. ],\n",
       "       [ 5.1,  3.3,  1.7,  0.5,  1. ],\n",
       "       [ 4.8,  3.4,  1.9,  0.2,  1. ],\n",
       "       [ 5. ,  3. ,  1.6,  0.2,  1. ],\n",
       "       [ 5. ,  3.4,  1.6,  0.4,  1. ],\n",
       "       [ 5.2,  3.5,  1.5,  0.2,  1. ],\n",
       "       [ 5.2,  3.4,  1.4,  0.2,  1. ],\n",
       "       [ 4.7,  3.2,  1.6,  0.2,  1. ],\n",
       "       [ 4.8,  3.1,  1.6,  0.2,  1. ],\n",
       "       [ 5.4,  3.4,  1.5,  0.4,  1. ],\n",
       "       [ 5.2,  4.1,  1.5,  0.1,  1. ],\n",
       "       [ 5.5,  4.2,  1.4,  0.2,  1. ],\n",
       "       [ 4.9,  3.1,  1.5,  0.2,  1. ],\n",
       "       [ 5. ,  3.2,  1.2,  0.2,  1. ],\n",
       "       [ 5.5,  3.5,  1.3,  0.2,  1. ],\n",
       "       [ 4.9,  3.6,  1.4,  0.1,  1. ],\n",
       "       [ 4.4,  3. ,  1.3,  0.2,  1. ],\n",
       "       [ 5.1,  3.4,  1.5,  0.2,  1. ],\n",
       "       [ 5. ,  3.5,  1.3,  0.3,  1. ],\n",
       "       [ 4.5,  2.3,  1.3,  0.3,  1. ],\n",
       "       [ 4.4,  3.2,  1.3,  0.2,  1. ],\n",
       "       [ 5. ,  3.5,  1.6,  0.6,  1. ],\n",
       "       [ 5.1,  3.8,  1.9,  0.4,  1. ],\n",
       "       [ 4.8,  3. ,  1.4,  0.3,  1. ],\n",
       "       [ 5.1,  3.8,  1.6,  0.2,  1. ],\n",
       "       [ 4.6,  3.2,  1.4,  0.2,  1. ],\n",
       "       [ 5.3,  3.7,  1.5,  0.2,  1. ],\n",
       "       [ 5. ,  3.3,  1.4,  0.2,  1. ],\n",
       "       [ 7. ,  3.2,  4.7,  1.4,  2. ],\n",
       "       [ 6.4,  3.2,  4.5,  1.5,  2. ],\n",
       "       [ 6.9,  3.1,  4.9,  1.5,  2. ],\n",
       "       [ 5.5,  2.3,  4. ,  1.3,  2. ],\n",
       "       [ 6.5,  2.8,  4.6,  1.5,  2. ],\n",
       "       [ 5.7,  2.8,  4.5,  1.3,  2. ],\n",
       "       [ 6.3,  3.3,  4.7,  1.6,  2. ],\n",
       "       [ 4.9,  2.4,  3.3,  1. ,  2. ],\n",
       "       [ 6.6,  2.9,  4.6,  1.3,  2. ],\n",
       "       [ 5.2,  2.7,  3.9,  1.4,  2. ],\n",
       "       [ 5. ,  2. ,  3.5,  1. ,  2. ],\n",
       "       [ 5.9,  3. ,  4.2,  1.5,  2. ],\n",
       "       [ 6. ,  2.2,  4. ,  1. ,  2. ],\n",
       "       [ 6.1,  2.9,  4.7,  1.4,  2. ],\n",
       "       [ 5.6,  2.9,  3.6,  1.3,  2. ],\n",
       "       [ 6.7,  3.1,  4.4,  1.4,  2. ],\n",
       "       [ 5.6,  3. ,  4.5,  1.5,  2. ],\n",
       "       [ 5.8,  2.7,  4.1,  1. ,  2. ],\n",
       "       [ 6.2,  2.2,  4.5,  1.5,  2. ],\n",
       "       [ 5.6,  2.5,  3.9,  1.1,  2. ],\n",
       "       [ 5.9,  3.2,  4.8,  1.8,  2. ],\n",
       "       [ 6.1,  2.8,  4. ,  1.3,  2. ],\n",
       "       [ 6.3,  2.5,  4.9,  1.5,  2. ],\n",
       "       [ 6.1,  2.8,  4.7,  1.2,  2. ],\n",
       "       [ 6.4,  2.9,  4.3,  1.3,  2. ],\n",
       "       [ 6.6,  3. ,  4.4,  1.4,  2. ],\n",
       "       [ 6.8,  2.8,  4.8,  1.4,  2. ],\n",
       "       [ 6.7,  3. ,  5. ,  1.7,  2. ],\n",
       "       [ 6. ,  2.9,  4.5,  1.5,  2. ],\n",
       "       [ 5.7,  2.6,  3.5,  1. ,  2. ],\n",
       "       [ 5.5,  2.4,  3.8,  1.1,  2. ],\n",
       "       [ 5.5,  2.4,  3.7,  1. ,  2. ],\n",
       "       [ 5.8,  2.7,  3.9,  1.2,  2. ],\n",
       "       [ 6. ,  2.7,  5.1,  1.6,  2. ],\n",
       "       [ 5.4,  3. ,  4.5,  1.5,  2. ],\n",
       "       [ 6. ,  3.4,  4.5,  1.6,  2. ],\n",
       "       [ 6.7,  3.1,  4.7,  1.5,  2. ],\n",
       "       [ 6.3,  2.3,  4.4,  1.3,  2. ],\n",
       "       [ 5.6,  3. ,  4.1,  1.3,  2. ],\n",
       "       [ 5.5,  2.5,  4. ,  1.3,  2. ],\n",
       "       [ 5.5,  2.6,  4.4,  1.2,  2. ],\n",
       "       [ 6.1,  3. ,  4.6,  1.4,  2. ],\n",
       "       [ 5.8,  2.6,  4. ,  1.2,  2. ],\n",
       "       [ 5. ,  2.3,  3.3,  1. ,  2. ],\n",
       "       [ 5.6,  2.7,  4.2,  1.3,  2. ],\n",
       "       [ 5.7,  3. ,  4.2,  1.2,  2. ],\n",
       "       [ 5.7,  2.9,  4.2,  1.3,  2. ],\n",
       "       [ 6.2,  2.9,  4.3,  1.3,  2. ],\n",
       "       [ 5.1,  2.5,  3. ,  1.1,  2. ],\n",
       "       [ 5.7,  2.8,  4.1,  1.3,  2. ],\n",
       "       [ 6.3,  3.3,  6. ,  2.5,  3. ],\n",
       "       [ 5.8,  2.7,  5.1,  1.9,  3. ],\n",
       "       [ 7.1,  3. ,  5.9,  2.1,  3. ],\n",
       "       [ 6.3,  2.9,  5.6,  1.8,  3. ],\n",
       "       [ 6.5,  3. ,  5.8,  2.2,  3. ],\n",
       "       [ 7.6,  3. ,  6.6,  2.1,  3. ],\n",
       "       [ 4.9,  2.5,  4.5,  1.7,  3. ],\n",
       "       [ 7.3,  2.9,  6.3,  1.8,  3. ],\n",
       "       [ 6.7,  2.5,  5.8,  1.8,  3. ],\n",
       "       [ 7.2,  3.6,  6.1,  2.5,  3. ],\n",
       "       [ 6.5,  3.2,  5.1,  2. ,  3. ],\n",
       "       [ 6.4,  2.7,  5.3,  1.9,  3. ],\n",
       "       [ 6.8,  3. ,  5.5,  2.1,  3. ],\n",
       "       [ 5.7,  2.5,  5. ,  2. ,  3. ],\n",
       "       [ 5.8,  2.8,  5.1,  2.4,  3. ],\n",
       "       [ 6.4,  3.2,  5.3,  2.3,  3. ],\n",
       "       [ 6.5,  3. ,  5.5,  1.8,  3. ],\n",
       "       [ 7.7,  3.8,  6.7,  2.2,  3. ],\n",
       "       [ 7.7,  2.6,  6.9,  2.3,  3. ],\n",
       "       [ 6. ,  2.2,  5. ,  1.5,  3. ],\n",
       "       [ 6.9,  3.2,  5.7,  2.3,  3. ],\n",
       "       [ 5.6,  2.8,  4.9,  2. ,  3. ],\n",
       "       [ 7.7,  2.8,  6.7,  2. ,  3. ],\n",
       "       [ 6.3,  2.7,  4.9,  1.8,  3. ],\n",
       "       [ 6.7,  3.3,  5.7,  2.1,  3. ],\n",
       "       [ 7.2,  3.2,  6. ,  1.8,  3. ],\n",
       "       [ 6.2,  2.8,  4.8,  1.8,  3. ],\n",
       "       [ 6.1,  3. ,  4.9,  1.8,  3. ],\n",
       "       [ 6.4,  2.8,  5.6,  2.1,  3. ],\n",
       "       [ 7.2,  3. ,  5.8,  1.6,  3. ],\n",
       "       [ 7.4,  2.8,  6.1,  1.9,  3. ],\n",
       "       [ 7.9,  3.8,  6.4,  2. ,  3. ],\n",
       "       [ 6.4,  2.8,  5.6,  2.2,  3. ],\n",
       "       [ 6.3,  2.8,  5.1,  1.5,  3. ],\n",
       "       [ 6.1,  2.6,  5.6,  1.4,  3. ],\n",
       "       [ 7.7,  3. ,  6.1,  2.3,  3. ],\n",
       "       [ 6.3,  3.4,  5.6,  2.4,  3. ],\n",
       "       [ 6.4,  3.1,  5.5,  1.8,  3. ],\n",
       "       [ 6. ,  3. ,  4.8,  1.8,  3. ],\n",
       "       [ 6.9,  3.1,  5.4,  2.1,  3. ],\n",
       "       [ 6.7,  3.1,  5.6,  2.4,  3. ],\n",
       "       [ 6.9,  3.1,  5.1,  2.3,  3. ],\n",
       "       [ 5.8,  2.7,  5.1,  1.9,  3. ],\n",
       "       [ 6.8,  3.2,  5.9,  2.3,  3. ],\n",
       "       [ 6.7,  3.3,  5.7,  2.5,  3. ],\n",
       "       [ 6.7,  3. ,  5.2,  2.3,  3. ],\n",
       "       [ 6.3,  2.5,  5. ,  1.9,  3. ],\n",
       "       [ 6.5,  3. ,  5.2,  2. ,  3. ],\n",
       "       [ 6.2,  3.4,  5.4,  2.3,  3. ],\n",
       "       [ 5.9,  3. ,  5.1,  1.8,  3. ]])"
      ]
     },
     "metadata": {},
     "execution_count": 100
    }
   ],
   "source": [
    "np.insert(iris, 1, [10,10,10,10,10], axis = 0)"
   ]
  },
  {
   "cell_type": "code",
   "execution_count": 101,
   "metadata": {},
   "outputs": [
    {
     "output_type": "execute_result",
     "data": {
      "text/plain": [
       "array([[5.1, 1.4, 0.2, 1. ],\n",
       "       [4.9, 1.4, 0.2, 1. ],\n",
       "       [4.7, 1.3, 0.2, 1. ],\n",
       "       [4.6, 1.5, 0.2, 1. ],\n",
       "       [5. , 1.4, 0.2, 1. ],\n",
       "       [5.4, 1.7, 0.4, 1. ],\n",
       "       [4.6, 1.4, 0.3, 1. ],\n",
       "       [5. , 1.5, 0.2, 1. ],\n",
       "       [4.4, 1.4, 0.2, 1. ],\n",
       "       [4.9, 1.5, 0.1, 1. ],\n",
       "       [5.4, 1.5, 0.2, 1. ],\n",
       "       [4.8, 1.6, 0.2, 1. ],\n",
       "       [4.8, 1.4, 0.1, 1. ],\n",
       "       [4.3, 1.1, 0.1, 1. ],\n",
       "       [5.8, 1.2, 0.2, 1. ],\n",
       "       [5.7, 1.5, 0.4, 1. ],\n",
       "       [5.4, 1.3, 0.4, 1. ],\n",
       "       [5.1, 1.4, 0.3, 1. ],\n",
       "       [5.7, 1.7, 0.3, 1. ],\n",
       "       [5.1, 1.5, 0.3, 1. ],\n",
       "       [5.4, 1.7, 0.2, 1. ],\n",
       "       [5.1, 1.5, 0.4, 1. ],\n",
       "       [4.6, 1. , 0.2, 1. ],\n",
       "       [5.1, 1.7, 0.5, 1. ],\n",
       "       [4.8, 1.9, 0.2, 1. ],\n",
       "       [5. , 1.6, 0.2, 1. ],\n",
       "       [5. , 1.6, 0.4, 1. ],\n",
       "       [5.2, 1.5, 0.2, 1. ],\n",
       "       [5.2, 1.4, 0.2, 1. ],\n",
       "       [4.7, 1.6, 0.2, 1. ],\n",
       "       [4.8, 1.6, 0.2, 1. ],\n",
       "       [5.4, 1.5, 0.4, 1. ],\n",
       "       [5.2, 1.5, 0.1, 1. ],\n",
       "       [5.5, 1.4, 0.2, 1. ],\n",
       "       [4.9, 1.5, 0.2, 1. ],\n",
       "       [5. , 1.2, 0.2, 1. ],\n",
       "       [5.5, 1.3, 0.2, 1. ],\n",
       "       [4.9, 1.4, 0.1, 1. ],\n",
       "       [4.4, 1.3, 0.2, 1. ],\n",
       "       [5.1, 1.5, 0.2, 1. ],\n",
       "       [5. , 1.3, 0.3, 1. ],\n",
       "       [4.5, 1.3, 0.3, 1. ],\n",
       "       [4.4, 1.3, 0.2, 1. ],\n",
       "       [5. , 1.6, 0.6, 1. ],\n",
       "       [5.1, 1.9, 0.4, 1. ],\n",
       "       [4.8, 1.4, 0.3, 1. ],\n",
       "       [5.1, 1.6, 0.2, 1. ],\n",
       "       [4.6, 1.4, 0.2, 1. ],\n",
       "       [5.3, 1.5, 0.2, 1. ],\n",
       "       [5. , 1.4, 0.2, 1. ],\n",
       "       [7. , 4.7, 1.4, 2. ],\n",
       "       [6.4, 4.5, 1.5, 2. ],\n",
       "       [6.9, 4.9, 1.5, 2. ],\n",
       "       [5.5, 4. , 1.3, 2. ],\n",
       "       [6.5, 4.6, 1.5, 2. ],\n",
       "       [5.7, 4.5, 1.3, 2. ],\n",
       "       [6.3, 4.7, 1.6, 2. ],\n",
       "       [4.9, 3.3, 1. , 2. ],\n",
       "       [6.6, 4.6, 1.3, 2. ],\n",
       "       [5.2, 3.9, 1.4, 2. ],\n",
       "       [5. , 3.5, 1. , 2. ],\n",
       "       [5.9, 4.2, 1.5, 2. ],\n",
       "       [6. , 4. , 1. , 2. ],\n",
       "       [6.1, 4.7, 1.4, 2. ],\n",
       "       [5.6, 3.6, 1.3, 2. ],\n",
       "       [6.7, 4.4, 1.4, 2. ],\n",
       "       [5.6, 4.5, 1.5, 2. ],\n",
       "       [5.8, 4.1, 1. , 2. ],\n",
       "       [6.2, 4.5, 1.5, 2. ],\n",
       "       [5.6, 3.9, 1.1, 2. ],\n",
       "       [5.9, 4.8, 1.8, 2. ],\n",
       "       [6.1, 4. , 1.3, 2. ],\n",
       "       [6.3, 4.9, 1.5, 2. ],\n",
       "       [6.1, 4.7, 1.2, 2. ],\n",
       "       [6.4, 4.3, 1.3, 2. ],\n",
       "       [6.6, 4.4, 1.4, 2. ],\n",
       "       [6.8, 4.8, 1.4, 2. ],\n",
       "       [6.7, 5. , 1.7, 2. ],\n",
       "       [6. , 4.5, 1.5, 2. ],\n",
       "       [5.7, 3.5, 1. , 2. ],\n",
       "       [5.5, 3.8, 1.1, 2. ],\n",
       "       [5.5, 3.7, 1. , 2. ],\n",
       "       [5.8, 3.9, 1.2, 2. ],\n",
       "       [6. , 5.1, 1.6, 2. ],\n",
       "       [5.4, 4.5, 1.5, 2. ],\n",
       "       [6. , 4.5, 1.6, 2. ],\n",
       "       [6.7, 4.7, 1.5, 2. ],\n",
       "       [6.3, 4.4, 1.3, 2. ],\n",
       "       [5.6, 4.1, 1.3, 2. ],\n",
       "       [5.5, 4. , 1.3, 2. ],\n",
       "       [5.5, 4.4, 1.2, 2. ],\n",
       "       [6.1, 4.6, 1.4, 2. ],\n",
       "       [5.8, 4. , 1.2, 2. ],\n",
       "       [5. , 3.3, 1. , 2. ],\n",
       "       [5.6, 4.2, 1.3, 2. ],\n",
       "       [5.7, 4.2, 1.2, 2. ],\n",
       "       [5.7, 4.2, 1.3, 2. ],\n",
       "       [6.2, 4.3, 1.3, 2. ],\n",
       "       [5.1, 3. , 1.1, 2. ],\n",
       "       [5.7, 4.1, 1.3, 2. ],\n",
       "       [6.3, 6. , 2.5, 3. ],\n",
       "       [5.8, 5.1, 1.9, 3. ],\n",
       "       [7.1, 5.9, 2.1, 3. ],\n",
       "       [6.3, 5.6, 1.8, 3. ],\n",
       "       [6.5, 5.8, 2.2, 3. ],\n",
       "       [7.6, 6.6, 2.1, 3. ],\n",
       "       [4.9, 4.5, 1.7, 3. ],\n",
       "       [7.3, 6.3, 1.8, 3. ],\n",
       "       [6.7, 5.8, 1.8, 3. ],\n",
       "       [7.2, 6.1, 2.5, 3. ],\n",
       "       [6.5, 5.1, 2. , 3. ],\n",
       "       [6.4, 5.3, 1.9, 3. ],\n",
       "       [6.8, 5.5, 2.1, 3. ],\n",
       "       [5.7, 5. , 2. , 3. ],\n",
       "       [5.8, 5.1, 2.4, 3. ],\n",
       "       [6.4, 5.3, 2.3, 3. ],\n",
       "       [6.5, 5.5, 1.8, 3. ],\n",
       "       [7.7, 6.7, 2.2, 3. ],\n",
       "       [7.7, 6.9, 2.3, 3. ],\n",
       "       [6. , 5. , 1.5, 3. ],\n",
       "       [6.9, 5.7, 2.3, 3. ],\n",
       "       [5.6, 4.9, 2. , 3. ],\n",
       "       [7.7, 6.7, 2. , 3. ],\n",
       "       [6.3, 4.9, 1.8, 3. ],\n",
       "       [6.7, 5.7, 2.1, 3. ],\n",
       "       [7.2, 6. , 1.8, 3. ],\n",
       "       [6.2, 4.8, 1.8, 3. ],\n",
       "       [6.1, 4.9, 1.8, 3. ],\n",
       "       [6.4, 5.6, 2.1, 3. ],\n",
       "       [7.2, 5.8, 1.6, 3. ],\n",
       "       [7.4, 6.1, 1.9, 3. ],\n",
       "       [7.9, 6.4, 2. , 3. ],\n",
       "       [6.4, 5.6, 2.2, 3. ],\n",
       "       [6.3, 5.1, 1.5, 3. ],\n",
       "       [6.1, 5.6, 1.4, 3. ],\n",
       "       [7.7, 6.1, 2.3, 3. ],\n",
       "       [6.3, 5.6, 2.4, 3. ],\n",
       "       [6.4, 5.5, 1.8, 3. ],\n",
       "       [6. , 4.8, 1.8, 3. ],\n",
       "       [6.9, 5.4, 2.1, 3. ],\n",
       "       [6.7, 5.6, 2.4, 3. ],\n",
       "       [6.9, 5.1, 2.3, 3. ],\n",
       "       [5.8, 5.1, 1.9, 3. ],\n",
       "       [6.8, 5.9, 2.3, 3. ],\n",
       "       [6.7, 5.7, 2.5, 3. ],\n",
       "       [6.7, 5.2, 2.3, 3. ],\n",
       "       [6.3, 5. , 1.9, 3. ],\n",
       "       [6.5, 5.2, 2. , 3. ],\n",
       "       [6.2, 5.4, 2.3, 3. ],\n",
       "       [5.9, 5.1, 1.8, 3. ]])"
      ]
     },
     "metadata": {},
     "execution_count": 101
    }
   ],
   "source": [
    "np.delete(iris, 1, axis = 1)"
   ]
  },
  {
   "cell_type": "code",
   "execution_count": 102,
   "metadata": {},
   "outputs": [
    {
     "output_type": "execute_result",
     "data": {
      "text/plain": [
       "array([[5.1, 3.5, 1.4, 0.2, 1. ],\n",
       "       [5.4, 3.9, 1.7, 0.4, 1. ],\n",
       "       [4.6, 3.4, 1.4, 0.3, 1. ],\n",
       "       [5. , 3.4, 1.5, 0.2, 1. ],\n",
       "       [4.4, 2.9, 1.4, 0.2, 1. ],\n",
       "       [4.9, 3.1, 1.5, 0.1, 1. ],\n",
       "       [5.4, 3.7, 1.5, 0.2, 1. ],\n",
       "       [4.8, 3.4, 1.6, 0.2, 1. ],\n",
       "       [4.8, 3. , 1.4, 0.1, 1. ],\n",
       "       [4.3, 3. , 1.1, 0.1, 1. ],\n",
       "       [5.8, 4. , 1.2, 0.2, 1. ],\n",
       "       [5.7, 4.4, 1.5, 0.4, 1. ],\n",
       "       [5.4, 3.9, 1.3, 0.4, 1. ],\n",
       "       [5.1, 3.5, 1.4, 0.3, 1. ],\n",
       "       [5.7, 3.8, 1.7, 0.3, 1. ],\n",
       "       [5.1, 3.8, 1.5, 0.3, 1. ],\n",
       "       [5.4, 3.4, 1.7, 0.2, 1. ],\n",
       "       [5.1, 3.7, 1.5, 0.4, 1. ],\n",
       "       [4.6, 3.6, 1. , 0.2, 1. ],\n",
       "       [5.1, 3.3, 1.7, 0.5, 1. ],\n",
       "       [4.8, 3.4, 1.9, 0.2, 1. ],\n",
       "       [5. , 3. , 1.6, 0.2, 1. ],\n",
       "       [5. , 3.4, 1.6, 0.4, 1. ],\n",
       "       [5.2, 3.5, 1.5, 0.2, 1. ],\n",
       "       [5.2, 3.4, 1.4, 0.2, 1. ],\n",
       "       [4.7, 3.2, 1.6, 0.2, 1. ],\n",
       "       [4.8, 3.1, 1.6, 0.2, 1. ],\n",
       "       [5.4, 3.4, 1.5, 0.4, 1. ],\n",
       "       [5.2, 4.1, 1.5, 0.1, 1. ],\n",
       "       [5.5, 4.2, 1.4, 0.2, 1. ],\n",
       "       [4.9, 3.1, 1.5, 0.2, 1. ],\n",
       "       [5. , 3.2, 1.2, 0.2, 1. ],\n",
       "       [5.5, 3.5, 1.3, 0.2, 1. ],\n",
       "       [4.9, 3.6, 1.4, 0.1, 1. ],\n",
       "       [4.4, 3. , 1.3, 0.2, 1. ],\n",
       "       [5.1, 3.4, 1.5, 0.2, 1. ],\n",
       "       [5. , 3.5, 1.3, 0.3, 1. ],\n",
       "       [4.5, 2.3, 1.3, 0.3, 1. ],\n",
       "       [4.4, 3.2, 1.3, 0.2, 1. ],\n",
       "       [5. , 3.5, 1.6, 0.6, 1. ],\n",
       "       [5.1, 3.8, 1.9, 0.4, 1. ],\n",
       "       [4.8, 3. , 1.4, 0.3, 1. ],\n",
       "       [5.1, 3.8, 1.6, 0.2, 1. ],\n",
       "       [4.6, 3.2, 1.4, 0.2, 1. ],\n",
       "       [5.3, 3.7, 1.5, 0.2, 1. ],\n",
       "       [5. , 3.3, 1.4, 0.2, 1. ],\n",
       "       [7. , 3.2, 4.7, 1.4, 2. ],\n",
       "       [6.4, 3.2, 4.5, 1.5, 2. ],\n",
       "       [6.9, 3.1, 4.9, 1.5, 2. ],\n",
       "       [5.5, 2.3, 4. , 1.3, 2. ],\n",
       "       [6.5, 2.8, 4.6, 1.5, 2. ],\n",
       "       [5.7, 2.8, 4.5, 1.3, 2. ],\n",
       "       [6.3, 3.3, 4.7, 1.6, 2. ],\n",
       "       [4.9, 2.4, 3.3, 1. , 2. ],\n",
       "       [6.6, 2.9, 4.6, 1.3, 2. ],\n",
       "       [5.2, 2.7, 3.9, 1.4, 2. ],\n",
       "       [5. , 2. , 3.5, 1. , 2. ],\n",
       "       [5.9, 3. , 4.2, 1.5, 2. ],\n",
       "       [6. , 2.2, 4. , 1. , 2. ],\n",
       "       [6.1, 2.9, 4.7, 1.4, 2. ],\n",
       "       [5.6, 2.9, 3.6, 1.3, 2. ],\n",
       "       [6.7, 3.1, 4.4, 1.4, 2. ],\n",
       "       [5.6, 3. , 4.5, 1.5, 2. ],\n",
       "       [5.8, 2.7, 4.1, 1. , 2. ],\n",
       "       [6.2, 2.2, 4.5, 1.5, 2. ],\n",
       "       [5.6, 2.5, 3.9, 1.1, 2. ],\n",
       "       [5.9, 3.2, 4.8, 1.8, 2. ],\n",
       "       [6.1, 2.8, 4. , 1.3, 2. ],\n",
       "       [6.3, 2.5, 4.9, 1.5, 2. ],\n",
       "       [6.1, 2.8, 4.7, 1.2, 2. ],\n",
       "       [6.4, 2.9, 4.3, 1.3, 2. ],\n",
       "       [6.6, 3. , 4.4, 1.4, 2. ],\n",
       "       [6.8, 2.8, 4.8, 1.4, 2. ],\n",
       "       [6.7, 3. , 5. , 1.7, 2. ],\n",
       "       [6. , 2.9, 4.5, 1.5, 2. ],\n",
       "       [5.7, 2.6, 3.5, 1. , 2. ],\n",
       "       [5.5, 2.4, 3.8, 1.1, 2. ],\n",
       "       [5.5, 2.4, 3.7, 1. , 2. ],\n",
       "       [5.8, 2.7, 3.9, 1.2, 2. ],\n",
       "       [6. , 2.7, 5.1, 1.6, 2. ],\n",
       "       [5.4, 3. , 4.5, 1.5, 2. ],\n",
       "       [6. , 3.4, 4.5, 1.6, 2. ],\n",
       "       [6.7, 3.1, 4.7, 1.5, 2. ],\n",
       "       [6.3, 2.3, 4.4, 1.3, 2. ],\n",
       "       [5.6, 3. , 4.1, 1.3, 2. ],\n",
       "       [5.5, 2.5, 4. , 1.3, 2. ],\n",
       "       [5.5, 2.6, 4.4, 1.2, 2. ],\n",
       "       [6.1, 3. , 4.6, 1.4, 2. ],\n",
       "       [5.8, 2.6, 4. , 1.2, 2. ],\n",
       "       [5. , 2.3, 3.3, 1. , 2. ],\n",
       "       [5.6, 2.7, 4.2, 1.3, 2. ],\n",
       "       [5.7, 3. , 4.2, 1.2, 2. ],\n",
       "       [5.7, 2.9, 4.2, 1.3, 2. ],\n",
       "       [6.2, 2.9, 4.3, 1.3, 2. ],\n",
       "       [5.1, 2.5, 3. , 1.1, 2. ],\n",
       "       [5.7, 2.8, 4.1, 1.3, 2. ],\n",
       "       [6.3, 3.3, 6. , 2.5, 3. ],\n",
       "       [5.8, 2.7, 5.1, 1.9, 3. ],\n",
       "       [7.1, 3. , 5.9, 2.1, 3. ],\n",
       "       [6.3, 2.9, 5.6, 1.8, 3. ],\n",
       "       [6.5, 3. , 5.8, 2.2, 3. ],\n",
       "       [7.6, 3. , 6.6, 2.1, 3. ],\n",
       "       [4.9, 2.5, 4.5, 1.7, 3. ],\n",
       "       [7.3, 2.9, 6.3, 1.8, 3. ],\n",
       "       [6.7, 2.5, 5.8, 1.8, 3. ],\n",
       "       [7.2, 3.6, 6.1, 2.5, 3. ],\n",
       "       [6.5, 3.2, 5.1, 2. , 3. ],\n",
       "       [6.4, 2.7, 5.3, 1.9, 3. ],\n",
       "       [6.8, 3. , 5.5, 2.1, 3. ],\n",
       "       [5.7, 2.5, 5. , 2. , 3. ],\n",
       "       [5.8, 2.8, 5.1, 2.4, 3. ],\n",
       "       [6.4, 3.2, 5.3, 2.3, 3. ],\n",
       "       [6.5, 3. , 5.5, 1.8, 3. ],\n",
       "       [7.7, 3.8, 6.7, 2.2, 3. ],\n",
       "       [7.7, 2.6, 6.9, 2.3, 3. ],\n",
       "       [6. , 2.2, 5. , 1.5, 3. ],\n",
       "       [6.9, 3.2, 5.7, 2.3, 3. ],\n",
       "       [5.6, 2.8, 4.9, 2. , 3. ],\n",
       "       [7.7, 2.8, 6.7, 2. , 3. ],\n",
       "       [6.3, 2.7, 4.9, 1.8, 3. ],\n",
       "       [6.7, 3.3, 5.7, 2.1, 3. ],\n",
       "       [7.2, 3.2, 6. , 1.8, 3. ],\n",
       "       [6.2, 2.8, 4.8, 1.8, 3. ],\n",
       "       [6.1, 3. , 4.9, 1.8, 3. ],\n",
       "       [6.4, 2.8, 5.6, 2.1, 3. ],\n",
       "       [7.2, 3. , 5.8, 1.6, 3. ],\n",
       "       [7.4, 2.8, 6.1, 1.9, 3. ],\n",
       "       [7.9, 3.8, 6.4, 2. , 3. ],\n",
       "       [6.4, 2.8, 5.6, 2.2, 3. ],\n",
       "       [6.3, 2.8, 5.1, 1.5, 3. ],\n",
       "       [6.1, 2.6, 5.6, 1.4, 3. ],\n",
       "       [7.7, 3. , 6.1, 2.3, 3. ],\n",
       "       [6.3, 3.4, 5.6, 2.4, 3. ],\n",
       "       [6.4, 3.1, 5.5, 1.8, 3. ],\n",
       "       [6. , 3. , 4.8, 1.8, 3. ],\n",
       "       [6.9, 3.1, 5.4, 2.1, 3. ],\n",
       "       [6.7, 3.1, 5.6, 2.4, 3. ],\n",
       "       [6.9, 3.1, 5.1, 2.3, 3. ],\n",
       "       [5.8, 2.7, 5.1, 1.9, 3. ],\n",
       "       [6.8, 3.2, 5.9, 2.3, 3. ],\n",
       "       [6.7, 3.3, 5.7, 2.5, 3. ],\n",
       "       [6.7, 3. , 5.2, 2.3, 3. ],\n",
       "       [6.3, 2.5, 5. , 1.9, 3. ],\n",
       "       [6.5, 3. , 5.2, 2. , 3. ],\n",
       "       [6.2, 3.4, 5.4, 2.3, 3. ],\n",
       "       [5.9, 3. , 5.1, 1.8, 3. ]])"
      ]
     },
     "metadata": {},
     "execution_count": 102
    }
   ],
   "source": [
    "np.delete(iris, [1,2,3,4], axis=0)"
   ]
  },
  {
   "cell_type": "code",
   "execution_count": 103,
   "metadata": {},
   "outputs": [
    {
     "output_type": "execute_result",
     "data": {
      "text/plain": [
       "array([ 1,  3,  4,  5,  6,  7,  8,  9, 10, 11, 12, 13, 14, 15, 16, 17, 18,\n",
       "       19, 20])"
      ]
     },
     "metadata": {},
     "execution_count": 103
    }
   ],
   "source": [
    "np.delete(notre_tableau,1)"
   ]
  },
  {
   "cell_type": "code",
   "execution_count": 104,
   "metadata": {},
   "outputs": [
    {
     "output_type": "execute_result",
     "data": {
      "text/plain": [
       "array([ 1,  2,  3,  4,  5,  6,  7,  8,  9, 10, 11, 12, 13, 14, 15, 16, 17,\n",
       "       18, 19, 20])"
      ]
     },
     "metadata": {},
     "execution_count": 104
    }
   ],
   "source": [
    "notre_tableau"
   ]
  },
  {
   "cell_type": "code",
   "execution_count": 107,
   "metadata": {},
   "outputs": [
    {
     "output_type": "stream",
     "name": "stdout",
     "text": [
      "[1 2] [3 4 5 6] [ 7  8  9 10 11 12 13 14 15 16 17 18] [19 20]\n"
     ]
    }
   ],
   "source": [
    "notre_tableau_1, notre_tableau_2, notre_tableau_3,notre_tableau_4 = np.split(notre_tableau, [2,6,18])\n",
    "print(notre_tableau_1, notre_tableau_2, notre_tableau_3,notre_tableau_4)"
   ]
  },
  {
   "cell_type": "code",
   "execution_count": 109,
   "metadata": {},
   "outputs": [
    {
     "output_type": "stream",
     "name": "stdout",
     "text": [
      "avant division\n[[ 2.  5.  6.]\n [ 9. 10. 11.]\n [ 5.  6.  9.]]\nAprès division\narray1:  [[ 2.  5.  6.]\n [ 9. 10. 11.]]\narray2:  [[5. 6. 9.]]\n"
     ]
    }
   ],
   "source": [
    "array=np.array([[2,5,6],[9,10,11],[5,6,9]], dtype=\"float\")\n",
    "print(\"avant division\")\n",
    "print(array)\n",
    "array1, array2 = np.vsplit(array, [2])\n",
    "print(\"Après division\")\n",
    "print(\"array1: \",array1)\n",
    "print(\"array2: \",array2)"
   ]
  },
  {
   "cell_type": "code",
   "execution_count": 112,
   "metadata": {},
   "outputs": [
    {
     "output_type": "stream",
     "name": "stdout",
     "text": [
      "avant division\n[[ 2.  5.  6.]\n [ 9. 10. 11.]\n [ 5.  6.  9.]]\nAprès division\narray1:  [[ 2.  5.]\n [ 9. 10.]\n [ 5.  6.]]\narray2:  [[ 6.]\n [11.]\n [ 9.]]\n"
     ]
    }
   ],
   "source": [
    "array=np.array([[2,5,6],[9,10,11],[5,6,9]], dtype=\"float\")\n",
    "print(\"avant division\")\n",
    "print(array)\n",
    "array1, array2 = np.hsplit(array, [2])\n",
    "print(\"Après division\")\n",
    "print(\"array1: \",array1)\n",
    "print(\"array2: \",array2)"
   ]
  },
  {
   "cell_type": "code",
   "execution_count": 113,
   "metadata": {},
   "outputs": [
    {
     "output_type": "stream",
     "name": "stdout",
     "text": [
      "[1 2 3 4 5]\n[6 7 8 9]\n"
     ]
    },
    {
     "output_type": "execute_result",
     "data": {
      "text/plain": [
       "array([1, 2, 3, 4, 5, 6, 7, 8, 9, 6, 7, 8, 9])"
      ]
     },
     "metadata": {},
     "execution_count": 113
    }
   ],
   "source": [
    "array1 = np.array([1,2,3,4,5])\n",
    "array2 = np.array([6,7,8,9])\n",
    "array3 = np.array([6,7,8,9])\n",
    "print(array1)\n",
    "print(array2)\n",
    "np.concatenate([array1,array2,array3])"
   ]
  },
  {
   "cell_type": "code",
   "execution_count": 115,
   "metadata": {},
   "outputs": [
    {
     "output_type": "stream",
     "name": "stdout",
     "text": [
      "array1 : [[1. 2. 3.]\n [4. 5. 6.]\n [7. 8. 9.]]\narray2 : [[ 2.  5.  6.]\n [ 9. 10. 11.]\n [ 5.  6.  9.]]\n"
     ]
    },
    {
     "output_type": "execute_result",
     "data": {
      "text/plain": [
       "array([[ 1.,  2.,  3.],\n",
       "       [ 4.,  5.,  6.],\n",
       "       [ 7.,  8.,  9.],\n",
       "       [ 2.,  5.,  6.],\n",
       "       [ 9., 10., 11.],\n",
       "       [ 5.,  6.,  9.]])"
      ]
     },
     "metadata": {},
     "execution_count": 115
    }
   ],
   "source": [
    "array1 = np.array([[1,2,3],[4,5,6],[7,8,9]], dtype = \"float\")\n",
    "array2 = np.array([[2,5,6],[9,10,11],[5,6,9]], dtype = \"float\")\n",
    "print(\"array1 :\",array1)\n",
    "print(\"array2 :\",array2)\n",
    "np.concatenate([array1,array2])"
   ]
  },
  {
   "cell_type": "code",
   "execution_count": 116,
   "metadata": {},
   "outputs": [
    {
     "output_type": "execute_result",
     "data": {
      "text/plain": [
       "array([[ 1.,  2.,  3.],\n",
       "       [ 4.,  5.,  6.],\n",
       "       [ 7.,  8.,  9.],\n",
       "       [ 2.,  5.,  6.],\n",
       "       [ 9., 10., 11.],\n",
       "       [ 5.,  6.,  9.],\n",
       "       [ 4., 10., 13.],\n",
       "       [ 7., 14., 15.]])"
      ]
     },
     "metadata": {},
     "execution_count": 116
    }
   ],
   "source": [
    "array3 = np.array([[4,10,13],[7,14,15]],dtype=\"float\")\n",
    "np.concatenate([array1,array2,array3])"
   ]
  },
  {
   "cell_type": "code",
   "execution_count": 118,
   "metadata": {},
   "outputs": [
    {
     "output_type": "stream",
     "name": "stdout",
     "text": [
      "[15 16 47]\n-----\n[[1. 2. 3.]\n [4. 5. 6.]\n [7. 8. 9.]]\n-----\n[[15. 16. 47.]\n [ 1.  2.  3.]\n [ 4.  5.  6.]\n [ 7.  8.  9.]]\n-----\n"
     ]
    }
   ],
   "source": [
    "array1 = np.array([15,16,47])\n",
    "array2 = np.array([[1,2,3],[4,5,6],[7,8,9]],dtype=\"float\")\n",
    "print(array1)\n",
    "print(5*\"-\")\n",
    "print(array2)\n",
    "print(5*\"-\")\n",
    "print(np.vstack([array1,array2]))\n",
    "array1 = np.array([[15],[16],[47]])\n",
    "print(5*\"-\")"
   ]
  },
  {
   "cell_type": "code",
   "execution_count": 119,
   "metadata": {},
   "outputs": [
    {
     "output_type": "stream",
     "name": "stdout",
     "text": [
      "[[15]\n [16]\n [47]]\n-----\n[[1. 2. 3.]\n [4. 5. 6.]\n [7. 8. 9.]]\n-----\n[[15.  1.  2.  3.]\n [16.  4.  5.  6.]\n [47.  7.  8.  9.]]\n"
     ]
    }
   ],
   "source": [
    "print(array1)\n",
    "print(5*\"-\")\n",
    "print(array2)\n",
    "print(5*\"-\")\n",
    "print(np.hstack([array1,array2]))"
   ]
  },
  {
   "cell_type": "code",
   "execution_count": null,
   "metadata": {},
   "outputs": [],
   "source": []
  },
  {
   "cell_type": "code",
   "execution_count": 120,
   "metadata": {},
   "outputs": [
    {
     "output_type": "execute_result",
     "data": {
      "text/plain": [
       "array([[ 1.,  4.,  9.],\n",
       "       [16., 25., 36.],\n",
       "       [49., 64., 81.]])"
      ]
     },
     "metadata": {},
     "execution_count": 120
    }
   ],
   "source": [
    "## multiplication de deux tableaux ndarrays\n",
    "array2*array2"
   ]
  },
  {
   "cell_type": "code",
   "execution_count": 121,
   "metadata": {},
   "outputs": [
    {
     "output_type": "execute_result",
     "data": {
      "text/plain": [
       "matrix([[ 30.,  36.,  42.],\n",
       "        [ 66.,  81.,  96.],\n",
       "        [102., 126., 150.]])"
      ]
     },
     "metadata": {},
     "execution_count": 121
    }
   ],
   "source": [
    "# produit matriciel entre les deux matrices array2\n",
    "np.mat(array2)*np.mat(array2)"
   ]
  },
  {
   "cell_type": "code",
   "execution_count": 158,
   "metadata": {},
   "outputs": [
    {
     "output_type": "stream",
     "name": "stdout",
     "text": [
      "[[5.1   3.5   1.4   0.2   1.    2.55 ]\n [4.9   3.    1.4   0.2   1.    2.375]\n [4.7   3.2   1.3   0.2   1.    2.35 ]\n [4.6   3.1   1.5   0.2   1.    2.35 ]\n [5.    3.6   1.4   0.2   1.    2.55 ]\n [5.4   3.9   1.7   0.4   1.    2.85 ]\n [4.6   3.4   1.4   0.3   1.    2.425]\n [5.    3.4   1.5   0.2   1.    2.525]\n [4.4   2.9   1.4   0.2   1.    2.225]\n [4.9   3.1   1.5   0.1   1.    2.4  ]\n [5.4   3.7   1.5   0.2   1.    2.7  ]\n [4.8   3.4   1.6   0.2   1.    2.5  ]\n [4.8   3.    1.4   0.1   1.    2.325]\n [4.3   3.    1.1   0.1   1.    2.125]\n [5.8   4.    1.2   0.2   1.    2.8  ]\n [5.7   4.4   1.5   0.4   1.    3.   ]\n [5.4   3.9   1.3   0.4   1.    2.75 ]\n [5.1   3.5   1.4   0.3   1.    2.575]\n [5.7   3.8   1.7   0.3   1.    2.875]\n [5.1   3.8   1.5   0.3   1.    2.675]\n [5.4   3.4   1.7   0.2   1.    2.675]\n [5.1   3.7   1.5   0.4   1.    2.675]\n [4.6   3.6   1.    0.2   1.    2.35 ]\n [5.1   3.3   1.7   0.5   1.    2.65 ]\n [4.8   3.4   1.9   0.2   1.    2.575]\n [5.    3.    1.6   0.2   1.    2.45 ]\n [5.    3.4   1.6   0.4   1.    2.6  ]\n [5.2   3.5   1.5   0.2   1.    2.6  ]\n [5.2   3.4   1.4   0.2   1.    2.55 ]\n [4.7   3.2   1.6   0.2   1.    2.425]\n [4.8   3.1   1.6   0.2   1.    2.425]\n [5.4   3.4   1.5   0.4   1.    2.675]\n [5.2   4.1   1.5   0.1   1.    2.725]\n [5.5   4.2   1.4   0.2   1.    2.825]\n [4.9   3.1   1.5   0.2   1.    2.425]\n [5.    3.2   1.2   0.2   1.    2.4  ]\n [5.5   3.5   1.3   0.2   1.    2.625]\n [4.9   3.6   1.4   0.1   1.    2.5  ]\n [4.4   3.    1.3   0.2   1.    2.225]\n [5.1   3.4   1.5   0.2   1.    2.55 ]\n [5.    3.5   1.3   0.3   1.    2.525]\n [4.5   2.3   1.3   0.3   1.    2.1  ]\n [4.4   3.2   1.3   0.2   1.    2.275]\n [5.    3.5   1.6   0.6   1.    2.675]\n [5.1   3.8   1.9   0.4   1.    2.8  ]\n [4.8   3.    1.4   0.3   1.    2.375]\n [5.1   3.8   1.6   0.2   1.    2.675]\n [4.6   3.2   1.4   0.2   1.    2.35 ]\n [5.3   3.7   1.5   0.2   1.    2.675]\n [5.    3.3   1.4   0.2   1.    2.475]\n [7.    3.2   4.7   1.4   2.    4.075]\n [6.4   3.2   4.5   1.5   2.    3.9  ]\n [6.9   3.1   4.9   1.5   2.    4.1  ]\n [5.5   2.3   4.    1.3   2.    3.275]\n [6.5   2.8   4.6   1.5   2.    3.85 ]\n [5.7   2.8   4.5   1.3   2.    3.575]\n [6.3   3.3   4.7   1.6   2.    3.975]\n [4.9   2.4   3.3   1.    2.    2.9  ]\n [6.6   2.9   4.6   1.3   2.    3.85 ]\n [5.2   2.7   3.9   1.4   2.    3.3  ]\n [5.    2.    3.5   1.    2.    2.875]\n [5.9   3.    4.2   1.5   2.    3.65 ]\n [6.    2.2   4.    1.    2.    3.3  ]\n [6.1   2.9   4.7   1.4   2.    3.775]\n [5.6   2.9   3.6   1.3   2.    3.35 ]\n [6.7   3.1   4.4   1.4   2.    3.9  ]\n [5.6   3.    4.5   1.5   2.    3.65 ]\n [5.8   2.7   4.1   1.    2.    3.4  ]\n [6.2   2.2   4.5   1.5   2.    3.6  ]\n [5.6   2.5   3.9   1.1   2.    3.275]\n [5.9   3.2   4.8   1.8   2.    3.925]\n [6.1   2.8   4.    1.3   2.    3.55 ]\n [6.3   2.5   4.9   1.5   2.    3.8  ]\n [6.1   2.8   4.7   1.2   2.    3.7  ]\n [6.4   2.9   4.3   1.3   2.    3.725]\n [6.6   3.    4.4   1.4   2.    3.85 ]\n [6.8   2.8   4.8   1.4   2.    3.95 ]\n [6.7   3.    5.    1.7   2.    4.1  ]\n [6.    2.9   4.5   1.5   2.    3.725]\n [5.7   2.6   3.5   1.    2.    3.2  ]\n [5.5   2.4   3.8   1.1   2.    3.2  ]\n [5.5   2.4   3.7   1.    2.    3.15 ]\n [5.8   2.7   3.9   1.2   2.    3.4  ]\n [6.    2.7   5.1   1.6   2.    3.85 ]\n [5.4   3.    4.5   1.5   2.    3.6  ]\n [6.    3.4   4.5   1.6   2.    3.875]\n [6.7   3.1   4.7   1.5   2.    4.   ]\n [6.3   2.3   4.4   1.3   2.    3.575]\n [5.6   3.    4.1   1.3   2.    3.5  ]\n [5.5   2.5   4.    1.3   2.    3.325]\n [5.5   2.6   4.4   1.2   2.    3.425]\n [6.1   3.    4.6   1.4   2.    3.775]\n [5.8   2.6   4.    1.2   2.    3.4  ]\n [5.    2.3   3.3   1.    2.    2.9  ]\n [5.6   2.7   4.2   1.3   2.    3.45 ]\n [5.7   3.    4.2   1.2   2.    3.525]\n [5.7   2.9   4.2   1.3   2.    3.525]\n [6.2   2.9   4.3   1.3   2.    3.675]\n [5.1   2.5   3.    1.1   2.    2.925]\n [5.7   2.8   4.1   1.3   2.    3.475]\n [6.3   3.3   6.    2.5   3.    4.525]\n [5.8   2.7   5.1   1.9   3.    3.875]\n [7.1   3.    5.9   2.1   3.    4.525]\n [6.3   2.9   5.6   1.8   3.    4.15 ]\n [6.5   3.    5.8   2.2   3.    4.375]\n [7.6   3.    6.6   2.1   3.    4.825]\n [4.9   2.5   4.5   1.7   3.    3.4  ]\n [7.3   2.9   6.3   1.8   3.    4.575]\n [6.7   2.5   5.8   1.8   3.    4.2  ]\n [7.2   3.6   6.1   2.5   3.    4.85 ]\n [6.5   3.2   5.1   2.    3.    4.2  ]\n [6.4   2.7   5.3   1.9   3.    4.075]\n [6.8   3.    5.5   2.1   3.    4.35 ]\n [5.7   2.5   5.    2.    3.    3.8  ]\n [5.8   2.8   5.1   2.4   3.    4.025]\n [6.4   3.2   5.3   2.3   3.    4.3  ]\n [6.5   3.    5.5   1.8   3.    4.2  ]\n [7.7   3.8   6.7   2.2   3.    5.1  ]\n [7.7   2.6   6.9   2.3   3.    4.875]\n [6.    2.2   5.    1.5   3.    3.675]\n [6.9   3.2   5.7   2.3   3.    4.525]\n [5.6   2.8   4.9   2.    3.    3.825]\n [7.7   2.8   6.7   2.    3.    4.8  ]\n [6.3   2.7   4.9   1.8   3.    3.925]\n [6.7   3.3   5.7   2.1   3.    4.45 ]\n [7.2   3.2   6.    1.8   3.    4.55 ]\n [6.2   2.8   4.8   1.8   3.    3.9  ]\n [6.1   3.    4.9   1.8   3.    3.95 ]\n [6.4   2.8   5.6   2.1   3.    4.225]\n [7.2   3.    5.8   1.6   3.    4.4  ]\n [7.4   2.8   6.1   1.9   3.    4.55 ]\n [7.9   3.8   6.4   2.    3.    5.025]\n [6.4   2.8   5.6   2.2   3.    4.25 ]\n [6.3   2.8   5.1   1.5   3.    3.925]\n [6.1   2.6   5.6   1.4   3.    3.925]\n [7.7   3.    6.1   2.3   3.    4.775]\n [6.3   3.4   5.6   2.4   3.    4.425]\n [6.4   3.1   5.5   1.8   3.    4.2  ]\n [6.    3.    4.8   1.8   3.    3.9  ]\n [6.9   3.1   5.4   2.1   3.    4.375]\n [6.7   3.1   5.6   2.4   3.    4.45 ]\n [6.9   3.1   5.1   2.3   3.    4.35 ]\n [5.8   2.7   5.1   1.9   3.    3.875]\n [6.8   3.2   5.9   2.3   3.    4.55 ]\n [6.7   3.3   5.7   2.5   3.    4.55 ]\n [6.7   3.    5.2   2.3   3.    4.3  ]\n [6.3   2.5   5.    1.9   3.    3.925]\n [6.5   3.    5.2   2.    3.    4.175]\n [6.2   3.4   5.4   2.3   3.    4.325]\n [5.9   3.    5.1   1.8   3.    3.95 ]]\n"
     ]
    }
   ],
   "source": [
    "iris2 = np.delete(iris,4,axis = 1)\n",
    "moyenne = np.mean(iris2, axis=1)\n",
    "\n",
    "iris3 = np.insert(iris, 5 , moyenne, axis = 1)\n",
    "print(iris3)"
   ]
  },
  {
   "cell_type": "code",
   "execution_count": 161,
   "metadata": {},
   "outputs": [
    {
     "output_type": "stream",
     "name": "stdout",
     "text": [
      "[[5.1   3.5   1.4   0.2   1.    2.55 ]\n [4.9   3.    1.4   0.2   1.    2.375]\n [4.7   3.2   1.3   0.2   1.    2.35 ]\n [4.6   3.1   1.5   0.2   1.    2.35 ]\n [5.    3.6   1.4   0.2   1.    2.55 ]\n [5.4   3.9   1.7   0.4   1.    2.85 ]\n [4.6   3.4   1.4   0.3   1.    2.425]\n [5.    3.4   1.5   0.2   1.    2.525]\n [4.4   2.9   1.4   0.2   1.    2.225]\n [4.9   3.1   1.5   0.1   1.    2.4  ]\n [5.4   3.7   1.5   0.2   1.    2.7  ]\n [4.8   3.4   1.6   0.2   1.    2.5  ]\n [4.8   3.    1.4   0.1   1.    2.325]\n [4.3   3.    1.1   0.1   1.    2.125]\n [5.8   4.    1.2   0.2   1.    2.8  ]\n [5.7   4.4   1.5   0.4   1.    3.   ]\n [5.4   3.9   1.3   0.4   1.    2.75 ]\n [5.1   3.5   1.4   0.3   1.    2.575]\n [5.7   3.8   1.7   0.3   1.    2.875]\n [5.1   3.8   1.5   0.3   1.    2.675]\n [5.4   3.4   1.7   0.2   1.    2.675]\n [5.1   3.7   1.5   0.4   1.    2.675]\n [4.6   3.6   1.    0.2   1.    2.35 ]\n [5.1   3.3   1.7   0.5   1.    2.65 ]\n [4.8   3.4   1.9   0.2   1.    2.575]\n [5.    3.    1.6   0.2   1.    2.45 ]\n [5.    3.4   1.6   0.4   1.    2.6  ]\n [5.2   3.5   1.5   0.2   1.    2.6  ]\n [5.2   3.4   1.4   0.2   1.    2.55 ]\n [4.7   3.2   1.6   0.2   1.    2.425]\n [4.8   3.1   1.6   0.2   1.    2.425]\n [5.4   3.4   1.5   0.4   1.    2.675]\n [5.2   4.1   1.5   0.1   1.    2.725]\n [5.5   4.2   1.4   0.2   1.    2.825]\n [4.9   3.1   1.5   0.2   1.    2.425]\n [5.    3.2   1.2   0.2   1.    2.4  ]\n [5.5   3.5   1.3   0.2   1.    2.625]\n [4.9   3.6   1.4   0.1   1.    2.5  ]\n [4.4   3.    1.3   0.2   1.    2.225]\n [5.1   3.4   1.5   0.2   1.    2.55 ]\n [5.    3.5   1.3   0.3   1.    2.525]\n [4.5   2.3   1.3   0.3   1.    2.1  ]\n [4.4   3.2   1.3   0.2   1.    2.275]\n [5.    3.5   1.6   0.6   1.    2.675]\n [5.1   3.8   1.9   0.4   1.    2.8  ]\n [4.8   3.    1.4   0.3   1.    2.375]\n [5.1   3.8   1.6   0.2   1.    2.675]\n [4.6   3.2   1.4   0.2   1.    2.35 ]\n [5.3   3.7   1.5   0.2   1.    2.675]\n [5.    3.3   1.4   0.2   1.    2.475]\n [7.    3.2   4.7   1.4   2.    4.075]\n [6.4   3.2   4.5   1.5   2.    3.9  ]\n [6.9   3.1   4.9   1.5   2.    4.1  ]\n [5.5   2.3   4.    1.3   2.    3.275]\n [6.5   2.8   4.6   1.5   2.    3.85 ]\n [5.7   2.8   4.5   1.3   2.    3.575]\n [6.3   3.3   4.7   1.6   2.    3.975]\n [4.9   2.4   3.3   1.    2.    2.9  ]\n [6.6   2.9   4.6   1.3   2.    3.85 ]\n [5.2   2.7   3.9   1.4   2.    3.3  ]\n [5.    2.    3.5   1.    2.    2.875]\n [5.9   3.    4.2   1.5   2.    3.65 ]\n [6.    2.2   4.    1.    2.    3.3  ]\n [6.1   2.9   4.7   1.4   2.    3.775]\n [5.6   2.9   3.6   1.3   2.    3.35 ]\n [6.7   3.1   4.4   1.4   2.    3.9  ]\n [5.6   3.    4.5   1.5   2.    3.65 ]\n [5.8   2.7   4.1   1.    2.    3.4  ]\n [6.2   2.2   4.5   1.5   2.    3.6  ]\n [5.6   2.5   3.9   1.1   2.    3.275]\n [5.9   3.2   4.8   1.8   2.    3.925]\n [6.1   2.8   4.    1.3   2.    3.55 ]\n [6.3   2.5   4.9   1.5   2.    3.8  ]\n [6.1   2.8   4.7   1.2   2.    3.7  ]\n [6.4   2.9   4.3   1.3   2.    3.725]\n [6.6   3.    4.4   1.4   2.    3.85 ]\n [6.8   2.8   4.8   1.4   2.    3.95 ]\n [6.7   3.    5.    1.7   2.    4.1  ]\n [6.    2.9   4.5   1.5   2.    3.725]\n [5.7   2.6   3.5   1.    2.    3.2  ]\n [5.5   2.4   3.8   1.1   2.    3.2  ]\n [5.5   2.4   3.7   1.    2.    3.15 ]\n [5.8   2.7   3.9   1.2   2.    3.4  ]\n [6.    2.7   5.1   1.6   2.    3.85 ]\n [5.4   3.    4.5   1.5   2.    3.6  ]\n [6.    3.4   4.5   1.6   2.    3.875]\n [6.7   3.1   4.7   1.5   2.    4.   ]\n [6.3   2.3   4.4   1.3   2.    3.575]\n [5.6   3.    4.1   1.3   2.    3.5  ]\n [5.5   2.5   4.    1.3   2.    3.325]\n [5.5   2.6   4.4   1.2   2.    3.425]\n [6.1   3.    4.6   1.4   2.    3.775]\n [5.8   2.6   4.    1.2   2.    3.4  ]\n [5.    2.3   3.3   1.    2.    2.9  ]\n [5.6   2.7   4.2   1.3   2.    3.45 ]\n [5.7   3.    4.2   1.2   2.    3.525]\n [5.7   2.9   4.2   1.3   2.    3.525]\n [6.2   2.9   4.3   1.3   2.    3.675]\n [5.1   2.5   3.    1.1   2.    2.925]\n [5.7   2.8   4.1   1.3   2.    3.475]\n [6.3   3.3   6.    2.5   3.    4.525]\n [5.8   2.7   5.1   1.9   3.    3.875]\n [7.1   3.    5.9   2.1   3.    4.525]\n [6.3   2.9   5.6   1.8   3.    4.15 ]\n [6.5   3.    5.8   2.2   3.    4.375]\n [7.6   3.    6.6   2.1   3.    4.825]\n [4.9   2.5   4.5   1.7   3.    3.4  ]\n [7.3   2.9   6.3   1.8   3.    4.575]\n [6.7   2.5   5.8   1.8   3.    4.2  ]\n [7.2   3.6   6.1   2.5   3.    4.85 ]\n [6.5   3.2   5.1   2.    3.    4.2  ]\n [6.4   2.7   5.3   1.9   3.    4.075]\n [6.8   3.    5.5   2.1   3.    4.35 ]\n [5.7   2.5   5.    2.    3.    3.8  ]\n [5.8   2.8   5.1   2.4   3.    4.025]\n [6.4   3.2   5.3   2.3   3.    4.3  ]\n [6.5   3.    5.5   1.8   3.    4.2  ]\n [7.7   3.8   6.7   2.2   3.    5.1  ]\n [7.7   2.6   6.9   2.3   3.    4.875]\n [6.    2.2   5.    1.5   3.    3.675]\n [6.9   3.2   5.7   2.3   3.    4.525]\n [5.6   2.8   4.9   2.    3.    3.825]\n [7.7   2.8   6.7   2.    3.    4.8  ]\n [6.3   2.7   4.9   1.8   3.    3.925]\n [6.7   3.3   5.7   2.1   3.    4.45 ]\n [7.2   3.2   6.    1.8   3.    4.55 ]\n [6.2   2.8   4.8   1.8   3.    3.9  ]\n [6.1   3.    4.9   1.8   3.    3.95 ]\n [6.4   2.8   5.6   2.1   3.    4.225]\n [7.2   3.    5.8   1.6   3.    4.4  ]\n [7.4   2.8   6.1   1.9   3.    4.55 ]\n [7.9   3.8   6.4   2.    3.    5.025]\n [6.4   2.8   5.6   2.2   3.    4.25 ]\n [6.3   2.8   5.1   1.5   3.    3.925]\n [6.1   2.6   5.6   1.4   3.    3.925]\n [7.7   3.    6.1   2.3   3.    4.775]\n [6.3   3.4   5.6   2.4   3.    4.425]\n [6.4   3.1   5.5   1.8   3.    4.2  ]\n [6.    3.    4.8   1.8   3.    3.9  ]\n [6.9   3.1   5.4   2.1   3.    4.375]\n [6.7   3.1   5.6   2.4   3.    4.45 ]\n [6.9   3.1   5.1   2.3   3.    4.35 ]\n [5.8   2.7   5.1   1.9   3.    3.875]\n [6.8   3.2   5.9   2.3   3.    4.55 ]\n [6.7   3.3   5.7   2.5   3.    4.55 ]\n [6.7   3.    5.2   2.3   3.    4.3  ]\n [6.3   2.5   5.    1.9   3.    3.925]\n [6.5   3.    5.2   2.    3.    4.175]\n [6.2   3.4   5.4   2.3   3.    4.325]\n [5.9   3.    5.1   1.8   3.    3.95 ]]\n"
     ]
    }
   ],
   "source": [
    "iris_mean = np.mean(iris[:,:4], axis=1)\n",
    "iris_mean\n",
    "print(np.insert(iris, 5,iris_mean, axis=1))"
   ]
  },
  {
   "cell_type": "code",
   "execution_count": 182,
   "metadata": {},
   "outputs": [
    {
     "output_type": "stream",
     "name": "stdout",
     "text": [
      "[[5.1        3.5        1.4        0.2        1.        ]\n [4.9        3.         1.4        0.2        1.        ]\n [4.7        3.2        1.3        0.2        1.        ]\n [4.6        3.1        1.5        0.2        1.        ]\n [5.         3.6        1.4        0.2        1.        ]\n [5.4        3.9        1.7        0.4        1.        ]\n [4.6        3.4        1.4        0.3        1.        ]\n [5.         3.4        1.5        0.2        1.        ]\n [4.4        2.9        1.4        0.2        1.        ]\n [4.9        3.1        1.5        0.1        1.        ]\n [5.4        3.7        1.5        0.2        1.        ]\n [4.8        3.4        1.6        0.2        1.        ]\n [4.8        3.         1.4        0.1        1.        ]\n [4.3        3.         1.1        0.1        1.        ]\n [5.8        4.         1.2        0.2        1.        ]\n [5.7        4.4        1.5        0.4        1.        ]\n [5.4        3.9        1.3        0.4        1.        ]\n [5.1        3.5        1.4        0.3        1.        ]\n [5.7        3.8        1.7        0.3        1.        ]\n [5.1        3.8        1.5        0.3        1.        ]\n [5.4        3.4        1.7        0.2        1.        ]\n [5.1        3.7        1.5        0.4        1.        ]\n [4.6        3.6        1.         0.2        1.        ]\n [5.1        3.3        1.7        0.5        1.        ]\n [4.8        3.4        1.9        0.2        1.        ]\n [5.         3.         1.6        0.2        1.        ]\n [5.         3.4        1.6        0.4        1.        ]\n [5.2        3.5        1.5        0.2        1.        ]\n [5.2        3.4        1.4        0.2        1.        ]\n [4.7        3.2        1.6        0.2        1.        ]\n [4.8        3.1        1.6        0.2        1.        ]\n [5.4        3.4        1.5        0.4        1.        ]\n [5.2        4.1        1.5        0.1        1.        ]\n [5.5        4.2        1.4        0.2        1.        ]\n [4.9        3.1        1.5        0.2        1.        ]\n [5.         3.2        1.2        0.2        1.        ]\n [5.5        3.5        1.3        0.2        1.        ]\n [4.9        3.6        1.4        0.1        1.        ]\n [4.4        3.         1.3        0.2        1.        ]\n [5.1        3.4        1.5        0.2        1.        ]\n [5.         3.5        1.3        0.3        1.        ]\n [4.5        2.3        1.3        0.3        1.        ]\n [4.4        3.2        1.3        0.2        1.        ]\n [5.         3.5        1.6        0.6        1.        ]\n [5.1        3.8        1.9        0.4        1.        ]\n [4.8        3.         1.4        0.3        1.        ]\n [5.1        3.8        1.6        0.2        1.        ]\n [4.6        3.2        1.4        0.2        1.        ]\n [5.3        3.7        1.5        0.2        1.        ]\n [5.         3.3        1.4        0.2        1.        ]\n [7.         3.2        4.7        1.4        2.        ]\n [6.4        3.2        4.5        1.5        2.        ]\n [6.9        3.1        4.9        1.5        2.        ]\n [5.5        2.3        4.         1.3        2.        ]\n [6.5        2.8        4.6        1.5        2.        ]\n [5.7        2.8        4.5        1.3        2.        ]\n [6.3        3.3        4.7        1.6        2.        ]\n [4.9        2.4        3.3        1.         2.        ]\n [6.6        2.9        4.6        1.3        2.        ]\n [5.2        2.7        3.9        1.4        2.        ]\n [5.         2.         3.5        1.         2.        ]\n [5.9        3.         4.2        1.5        2.        ]\n [6.         2.2        4.         1.         2.        ]\n [6.1        2.9        4.7        1.4        2.        ]\n [5.6        2.9        3.6        1.3        2.        ]\n [6.7        3.1        4.4        1.4        2.        ]\n [5.6        3.         4.5        1.5        2.        ]\n [5.8        2.7        4.1        1.         2.        ]\n [6.2        2.2        4.5        1.5        2.        ]\n [5.6        2.5        3.9        1.1        2.        ]\n [5.9        3.2        4.8        1.8        2.        ]\n [6.1        2.8        4.         1.3        2.        ]\n [6.3        2.5        4.9        1.5        2.        ]\n [6.1        2.8        4.7        1.2        2.        ]\n [6.4        2.9        4.3        1.3        2.        ]\n [6.6        3.         4.4        1.4        2.        ]\n [6.8        2.8        4.8        1.4        2.        ]\n [6.7        3.         5.         1.7        2.        ]\n [6.         2.9        4.5        1.5        2.        ]\n [5.7        2.6        3.5        1.         2.        ]\n [5.5        2.4        3.8        1.1        2.        ]\n [5.5        2.4        3.7        1.         2.        ]\n [5.8        2.7        3.9        1.2        2.        ]\n [6.         2.7        5.1        1.6        2.        ]\n [5.4        3.         4.5        1.5        2.        ]\n [6.         3.4        4.5        1.6        2.        ]\n [6.7        3.1        4.7        1.5        2.        ]\n [6.3        2.3        4.4        1.3        2.        ]\n [5.6        3.         4.1        1.3        2.        ]\n [5.5        2.5        4.         1.3        2.        ]\n [5.5        2.6        4.4        1.2        2.        ]\n [6.1        3.         4.6        1.4        2.        ]\n [5.8        2.6        4.         1.2        2.        ]\n [5.         2.3        3.3        1.         2.        ]\n [5.6        2.7        4.2        1.3        2.        ]\n [5.7        3.         4.2        1.2        2.        ]\n [5.7        2.9        4.2        1.3        2.        ]\n [6.2        2.9        4.3        1.3        2.        ]\n [5.1        2.5        3.         1.1        2.        ]\n [5.7        2.8        4.1        1.3        2.        ]\n [6.3        3.3        6.         2.5        3.        ]\n [5.8        2.7        5.1        1.9        3.        ]\n [7.1        3.         5.9        2.1        3.        ]\n [6.3        2.9        5.6        1.8        3.        ]\n [6.5        3.         5.8        2.2        3.        ]\n [7.6        3.         6.6        2.1        3.        ]\n [4.9        2.5        4.5        1.7        3.        ]\n [7.3        2.9        6.3        1.8        3.        ]\n [6.7        2.5        5.8        1.8        3.        ]\n [7.2        3.6        6.1        2.5        3.        ]\n [6.5        3.2        5.1        2.         3.        ]\n [6.4        2.7        5.3        1.9        3.        ]\n [6.8        3.         5.5        2.1        3.        ]\n [5.7        2.5        5.         2.         3.        ]\n [5.8        2.8        5.1        2.4        3.        ]\n [6.4        3.2        5.3        2.3        3.        ]\n [6.5        3.         5.5        1.8        3.        ]\n [7.7        3.8        6.7        2.2        3.        ]\n [7.7        2.6        6.9        2.3        3.        ]\n [6.         2.2        5.         1.5        3.        ]\n [6.9        3.2        5.7        2.3        3.        ]\n [5.6        2.8        4.9        2.         3.        ]\n [7.7        2.8        6.7        2.         3.        ]\n [6.3        2.7        4.9        1.8        3.        ]\n [6.7        3.3        5.7        2.1        3.        ]\n [7.2        3.2        6.         1.8        3.        ]\n [6.2        2.8        4.8        1.8        3.        ]\n [6.1        3.         4.9        1.8        3.        ]\n [6.4        2.8        5.6        2.1        3.        ]\n [7.2        3.         5.8        1.6        3.        ]\n [7.4        2.8        6.1        1.9        3.        ]\n [7.9        3.8        6.4        2.         3.        ]\n [6.4        2.8        5.6        2.2        3.        ]\n [6.3        2.8        5.1        1.5        3.        ]\n [6.1        2.6        5.6        1.4        3.        ]\n [7.7        3.         6.1        2.3        3.        ]\n [6.3        3.4        5.6        2.4        3.        ]\n [6.4        3.1        5.5        1.8        3.        ]\n [6.         3.         4.8        1.8        3.        ]\n [6.9        3.1        5.4        2.1        3.        ]\n [6.7        3.1        5.6        2.4        3.        ]\n [6.9        3.1        5.1        2.3        3.        ]\n [5.8        2.7        5.1        1.9        3.        ]\n [6.8        3.2        5.9        2.3        3.        ]\n [6.7        3.3        5.7        2.5        3.        ]\n [6.7        3.         5.2        2.3        3.        ]\n [6.3        2.5        5.         1.9        3.        ]\n [6.5        3.         5.2        2.         3.        ]\n [6.2        3.4        5.4        2.3        3.        ]\n [5.9        3.         5.1        1.8        3.        ]\n [5.84333333 3.05733333 3.758      1.19933333 2.        ]]\n"
     ]
    }
   ],
   "source": [
    "iris_column_mean = np.mean(iris, axis = 0)\n",
    "print(np.insert(iris,iris.shape[0], iris_column_mean, axis=0))"
   ]
  },
  {
   "cell_type": "code",
   "execution_count": null,
   "metadata": {},
   "outputs": [],
   "source": []
  }
 ],
 "metadata": {
  "kernelspec": {
   "name": "python385jvsc74a57bd0e6eadfc1c4a1eef00ecbec86d0c5769026efe2dcc04103dc3901ce98c2258b06",
   "display_name": "Python 3.8.8 64-bit ('base': conda)"
  },
  "metadata": {
   "interpreter": {
    "hash": "e6eadfc1c4a1eef00ecbec86d0c5769026efe2dcc04103dc3901ce98c2258b06"
   }
  }
 },
 "nbformat": 4,
 "nbformat_minor": 2
}